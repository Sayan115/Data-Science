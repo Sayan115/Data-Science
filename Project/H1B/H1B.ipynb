{
 "cells": [
  {
   "cell_type": "markdown",
   "id": "fea04884",
   "metadata": {},
   "source": [
    "# H1B dataset"
   ]
  },
  {
   "cell_type": "code",
   "execution_count": 21,
   "id": "b7b9c6e1",
   "metadata": {},
   "outputs": [],
   "source": [
    "import pandas as pd\n",
    "import matplotlib.pyplot as plt\n",
    "import seaborn as sns\n",
    "import numpy as np"
   ]
  },
  {
   "cell_type": "code",
   "execution_count": 22,
   "id": "b9d1be4f",
   "metadata": {},
   "outputs": [],
   "source": [
    "h1b=pd.read_csv(\"H1B.csv\")"
   ]
  },
  {
   "cell_type": "markdown",
   "id": "b314152b",
   "metadata": {},
   "source": [
    "### Overview of the data"
   ]
  },
  {
   "cell_type": "code",
   "execution_count": 23,
   "id": "f8f1feca",
   "metadata": {},
   "outputs": [
    {
     "data": {
      "text/html": [
       "<div>\n",
       "<style scoped>\n",
       "    .dataframe tbody tr th:only-of-type {\n",
       "        vertical-align: middle;\n",
       "    }\n",
       "\n",
       "    .dataframe tbody tr th {\n",
       "        vertical-align: top;\n",
       "    }\n",
       "\n",
       "    .dataframe thead th {\n",
       "        text-align: right;\n",
       "    }\n",
       "</style>\n",
       "<table border=\"1\" class=\"dataframe\">\n",
       "  <thead>\n",
       "    <tr style=\"text-align: right;\">\n",
       "      <th></th>\n",
       "      <th>Unnamed: 0</th>\n",
       "      <th>CASE_STATUS</th>\n",
       "      <th>EMPLOYER_NAME</th>\n",
       "      <th>SOC_NAME</th>\n",
       "      <th>JOB_TITLE</th>\n",
       "      <th>FULL_TIME_POSITION</th>\n",
       "      <th>PREVAILING_WAGE</th>\n",
       "      <th>YEAR</th>\n",
       "      <th>WORKSITE</th>\n",
       "      <th>lon</th>\n",
       "      <th>lat</th>\n",
       "    </tr>\n",
       "  </thead>\n",
       "  <tbody>\n",
       "    <tr>\n",
       "      <th>0</th>\n",
       "      <td>1</td>\n",
       "      <td>CERTIFIED-WITHDRAWN</td>\n",
       "      <td>UNIVERSITY OF MICHIGAN</td>\n",
       "      <td>BIOCHEMISTS AND BIOPHYSICISTS</td>\n",
       "      <td>POSTDOCTORAL RESEARCH FELLOW</td>\n",
       "      <td>N</td>\n",
       "      <td>36067.0</td>\n",
       "      <td>2016.0</td>\n",
       "      <td>ANN ARBOR, MICHIGAN</td>\n",
       "      <td>-83.743038</td>\n",
       "      <td>42.280826</td>\n",
       "    </tr>\n",
       "    <tr>\n",
       "      <th>1</th>\n",
       "      <td>2</td>\n",
       "      <td>CERTIFIED-WITHDRAWN</td>\n",
       "      <td>GOODMAN NETWORKS, INC.</td>\n",
       "      <td>CHIEF EXECUTIVES</td>\n",
       "      <td>CHIEF OPERATING OFFICER</td>\n",
       "      <td>Y</td>\n",
       "      <td>242674.0</td>\n",
       "      <td>2016.0</td>\n",
       "      <td>PLANO, TEXAS</td>\n",
       "      <td>-96.698886</td>\n",
       "      <td>33.019843</td>\n",
       "    </tr>\n",
       "    <tr>\n",
       "      <th>2</th>\n",
       "      <td>3</td>\n",
       "      <td>CERTIFIED-WITHDRAWN</td>\n",
       "      <td>PORTS AMERICA GROUP, INC.</td>\n",
       "      <td>CHIEF EXECUTIVES</td>\n",
       "      <td>CHIEF PROCESS OFFICER</td>\n",
       "      <td>Y</td>\n",
       "      <td>193066.0</td>\n",
       "      <td>2016.0</td>\n",
       "      <td>JERSEY CITY, NEW JERSEY</td>\n",
       "      <td>-74.077642</td>\n",
       "      <td>40.728158</td>\n",
       "    </tr>\n",
       "    <tr>\n",
       "      <th>3</th>\n",
       "      <td>4</td>\n",
       "      <td>CERTIFIED-WITHDRAWN</td>\n",
       "      <td>GATES CORPORATION, A WHOLLY-OWNED SUBSIDIARY O...</td>\n",
       "      <td>CHIEF EXECUTIVES</td>\n",
       "      <td>REGIONAL PRESIDEN, AMERICAS</td>\n",
       "      <td>Y</td>\n",
       "      <td>220314.0</td>\n",
       "      <td>2016.0</td>\n",
       "      <td>DENVER, COLORADO</td>\n",
       "      <td>-104.990251</td>\n",
       "      <td>39.739236</td>\n",
       "    </tr>\n",
       "    <tr>\n",
       "      <th>4</th>\n",
       "      <td>5</td>\n",
       "      <td>WITHDRAWN</td>\n",
       "      <td>PEABODY INVESTMENTS CORP.</td>\n",
       "      <td>CHIEF EXECUTIVES</td>\n",
       "      <td>PRESIDENT MONGOLIA AND INDIA</td>\n",
       "      <td>Y</td>\n",
       "      <td>157518.4</td>\n",
       "      <td>2016.0</td>\n",
       "      <td>ST. LOUIS, MISSOURI</td>\n",
       "      <td>-90.199404</td>\n",
       "      <td>38.627003</td>\n",
       "    </tr>\n",
       "  </tbody>\n",
       "</table>\n",
       "</div>"
      ],
      "text/plain": [
       "   Unnamed: 0          CASE_STATUS  \\\n",
       "0           1  CERTIFIED-WITHDRAWN   \n",
       "1           2  CERTIFIED-WITHDRAWN   \n",
       "2           3  CERTIFIED-WITHDRAWN   \n",
       "3           4  CERTIFIED-WITHDRAWN   \n",
       "4           5            WITHDRAWN   \n",
       "\n",
       "                                       EMPLOYER_NAME  \\\n",
       "0                             UNIVERSITY OF MICHIGAN   \n",
       "1                             GOODMAN NETWORKS, INC.   \n",
       "2                          PORTS AMERICA GROUP, INC.   \n",
       "3  GATES CORPORATION, A WHOLLY-OWNED SUBSIDIARY O...   \n",
       "4                          PEABODY INVESTMENTS CORP.   \n",
       "\n",
       "                        SOC_NAME                     JOB_TITLE  \\\n",
       "0  BIOCHEMISTS AND BIOPHYSICISTS  POSTDOCTORAL RESEARCH FELLOW   \n",
       "1               CHIEF EXECUTIVES       CHIEF OPERATING OFFICER   \n",
       "2               CHIEF EXECUTIVES         CHIEF PROCESS OFFICER   \n",
       "3               CHIEF EXECUTIVES   REGIONAL PRESIDEN, AMERICAS   \n",
       "4               CHIEF EXECUTIVES  PRESIDENT MONGOLIA AND INDIA   \n",
       "\n",
       "  FULL_TIME_POSITION  PREVAILING_WAGE    YEAR                 WORKSITE  \\\n",
       "0                  N          36067.0  2016.0      ANN ARBOR, MICHIGAN   \n",
       "1                  Y         242674.0  2016.0             PLANO, TEXAS   \n",
       "2                  Y         193066.0  2016.0  JERSEY CITY, NEW JERSEY   \n",
       "3                  Y         220314.0  2016.0         DENVER, COLORADO   \n",
       "4                  Y         157518.4  2016.0      ST. LOUIS, MISSOURI   \n",
       "\n",
       "          lon        lat  \n",
       "0  -83.743038  42.280826  \n",
       "1  -96.698886  33.019843  \n",
       "2  -74.077642  40.728158  \n",
       "3 -104.990251  39.739236  \n",
       "4  -90.199404  38.627003  "
      ]
     },
     "execution_count": 23,
     "metadata": {},
     "output_type": "execute_result"
    }
   ],
   "source": [
    "h1b.head()"
   ]
  },
  {
   "cell_type": "code",
   "execution_count": 24,
   "id": "e9a64d38",
   "metadata": {},
   "outputs": [
    {
     "name": "stdout",
     "output_type": "stream",
     "text": [
      "<class 'pandas.core.frame.DataFrame'>\n",
      "RangeIndex: 3002458 entries, 0 to 3002457\n",
      "Data columns (total 11 columns):\n",
      " #   Column              Dtype  \n",
      "---  ------              -----  \n",
      " 0   Unnamed: 0          int64  \n",
      " 1   CASE_STATUS         object \n",
      " 2   EMPLOYER_NAME       object \n",
      " 3   SOC_NAME            object \n",
      " 4   JOB_TITLE           object \n",
      " 5   FULL_TIME_POSITION  object \n",
      " 6   PREVAILING_WAGE     float64\n",
      " 7   YEAR                float64\n",
      " 8   WORKSITE            object \n",
      " 9   lon                 float64\n",
      " 10  lat                 float64\n",
      "dtypes: float64(4), int64(1), object(6)\n",
      "memory usage: 252.0+ MB\n"
     ]
    }
   ],
   "source": [
    "h1b.info()"
   ]
  },
  {
   "cell_type": "markdown",
   "id": "88b89c37",
   "metadata": {},
   "source": [
    "### Data Cleansing"
   ]
  },
  {
   "cell_type": "code",
   "execution_count": 25,
   "id": "6e0b10e8",
   "metadata": {},
   "outputs": [
    {
     "data": {
      "text/plain": [
       "Unnamed: 0                 0\n",
       "CASE_STATUS               13\n",
       "EMPLOYER_NAME             59\n",
       "SOC_NAME               17734\n",
       "JOB_TITLE                 43\n",
       "FULL_TIME_POSITION        15\n",
       "PREVAILING_WAGE           85\n",
       "YEAR                      13\n",
       "WORKSITE                   0\n",
       "lon                   107242\n",
       "lat                   107242\n",
       "dtype: int64"
      ]
     },
     "execution_count": 25,
     "metadata": {},
     "output_type": "execute_result"
    }
   ],
   "source": [
    "h1b.isnull().sum()"
   ]
  },
  {
   "cell_type": "code",
   "execution_count": 26,
   "id": "4cda8d7f",
   "metadata": {},
   "outputs": [],
   "source": [
    "h1b=h1b.dropna()"
   ]
  },
  {
   "cell_type": "code",
   "execution_count": 27,
   "id": "af5403e2",
   "metadata": {},
   "outputs": [
    {
     "data": {
      "text/plain": [
       "Unnamed: 0            0\n",
       "CASE_STATUS           0\n",
       "EMPLOYER_NAME         0\n",
       "SOC_NAME              0\n",
       "JOB_TITLE             0\n",
       "FULL_TIME_POSITION    0\n",
       "PREVAILING_WAGE       0\n",
       "YEAR                  0\n",
       "WORKSITE              0\n",
       "lon                   0\n",
       "lat                   0\n",
       "dtype: int64"
      ]
     },
     "execution_count": 27,
     "metadata": {},
     "output_type": "execute_result"
    }
   ],
   "source": [
    "h1b.isnull().sum()"
   ]
  },
  {
   "cell_type": "markdown",
   "id": "8b576553",
   "metadata": {},
   "source": [
    "### Analysis of the Dataset"
   ]
  },
  {
   "cell_type": "code",
   "execution_count": 28,
   "id": "a4f4a3c2",
   "metadata": {},
   "outputs": [
    {
     "name": "stdout",
     "output_type": "stream",
     "text": [
      "CERTIFIED                                             2512114\n",
      "CERTIFIED-WITHDRAWN                                    195721\n",
      "DENIED                                                  85161\n",
      "WITHDRAWN                                               84752\n",
      "PENDING QUALITY AND COMPLIANCE REVIEW - UNASSIGNED         15\n",
      "REJECTED                                                    1\n",
      "INVALIDATED                                                 1\n",
      "Name: CASE_STATUS, dtype: int64\n"
     ]
    }
   ],
   "source": [
    "# Petition distributed by case statuses\n",
    "print(h1b['CASE_STATUS'].value_counts())"
   ]
  },
  {
   "cell_type": "code",
   "execution_count": 29,
   "id": "b0724ce2",
   "metadata": {},
   "outputs": [
    {
     "data": {
      "text/plain": [
       "INFOSYS LIMITED                      130257\n",
       "TATA CONSULTANCY SERVICES LIMITED     64273\n",
       "WIPRO LIMITED                         45673\n",
       "DELOITTE CONSULTING LLP               35999\n",
       "IBM INDIA PRIVATE LIMITED             33585\n",
       "                                      ...  \n",
       "YOUNG ENTERPRISE SYSTEMS, INC.,           1\n",
       "RONALD D. MIZRAHI DDS PC                  1\n",
       "SUPPLY PRO INC                            1\n",
       "MEDIQUIRE, INC.                           1\n",
       "J. LOGAN INTERIORS                        1\n",
       "Name: EMPLOYER_NAME, Length: 214982, dtype: int64"
      ]
     },
     "execution_count": 29,
     "metadata": {},
     "output_type": "execute_result"
    }
   ],
   "source": [
    "# Top employers filing the petitions\n",
    "h1b['EMPLOYER_NAME'].value_counts()"
   ]
  },
  {
   "cell_type": "code",
   "execution_count": 30,
   "id": "837b4f97",
   "metadata": {},
   "outputs": [
    {
     "data": {
      "text/plain": [
       "INFOSYS LIMITED                                    130257\n",
       "TATA CONSULTANCY SERVICES LIMITED                   64273\n",
       "WIPRO LIMITED                                       45673\n",
       "DELOITTE CONSULTING LLP                             35999\n",
       "IBM INDIA PRIVATE LIMITED                           33585\n",
       "ACCENTURE LLP                                       33226\n",
       "MICROSOFT CORPORATION                               25551\n",
       "HCL AMERICA, INC.                                   22488\n",
       "ERNST & YOUNG U.S. LLP                              18094\n",
       "COGNIZANT TECHNOLOGY SOLUTIONS U.S. CORPORATION     17322\n",
       "CAPGEMINI AMERICA INC                               16628\n",
       "GOOGLE INC.                                         16425\n",
       "LARSEN & TOUBRO INFOTECH LIMITED                    14318\n",
       "IGATE TECHNOLOGIES INC.                             12327\n",
       "IBM CORPORATION                                     11976\n",
       "Name: EMPLOYER_NAME, dtype: int64"
      ]
     },
     "execution_count": 30,
     "metadata": {},
     "output_type": "execute_result"
    }
   ],
   "source": [
    "# Top 15 companies that filed the most visa application\n",
    "h1b['EMPLOYER_NAME'].value_counts()[0:15]"
   ]
  },
  {
   "cell_type": "code",
   "execution_count": 31,
   "id": "aad5b0ff",
   "metadata": {},
   "outputs": [
    {
     "name": "stdout",
     "output_type": "stream",
     "text": [
      "     index                        EMPLOYER_NAME  PREVAILING_WAGE\n",
      "0  2163248  GUARDIAN HEALTHCARE PROVIDERS, INC.     6.997607e+09\n",
      "1  2797982                     SCIVANTAGE, INC.     1.007814e+09\n",
      "2  1673867               DISCOVER PRODUCTS INC.     8.201323e+08\n",
      "3  1819718                        IDEXCEL, INC.     7.099999e+08\n",
      "4  1547574                           ARKRIT LLC     6.169317e+08\n"
     ]
    }
   ],
   "source": [
    "# Top employers granting maximum prevailing wages\n",
    "print(h1b.sort_values(by=\"PREVAILING_WAGE\",ascending=False)[['EMPLOYER_NAME','PREVAILING_WAGE']][0:5].reset_index())"
   ]
  },
  {
   "cell_type": "code",
   "execution_count": 32,
   "id": "0a4e572a",
   "metadata": {},
   "outputs": [
    {
     "data": {
      "text/plain": [
       " CALIFORNIA        548539\n",
       " TEXAS             286704\n",
       " NEW YORK          282429\n",
       " NEW JERSEY        206876\n",
       " ILLINOIS          154843\n",
       " MASSACHUSETTS     112659\n",
       " PENNSYLVANIA      103729\n",
       " WASHINGTON        100754\n",
       " FLORIDA           100384\n",
       " GEORGIA            99679\n",
       " VIRGINIA           86948\n",
       " MICHIGAN           77868\n",
       " NORTH CAROLINA     75701\n",
       " OHIO               71765\n",
       " MARYLAND           53145\n",
       " CONNECTICUT        48174\n",
       " MINNESOTA          45864\n",
       " ARIZONA            40184\n",
       " MISSOURI           32737\n",
       " WISCONSIN          30485\n",
       "Name: WORKSITE, dtype: int64"
      ]
     },
     "execution_count": 32,
     "metadata": {},
     "output_type": "execute_result"
    }
   ],
   "source": [
    "# Top 20 states filing highest visa petitions\n",
    "h1b['WORKSITE'].str.split(',').str[1].value_counts()[0:20]"
   ]
  },
  {
   "cell_type": "code",
   "execution_count": 33,
   "id": "5c7e9cfc",
   "metadata": {},
   "outputs": [
    {
     "data": {
      "text/plain": [
       "2016.0    629299\n",
       "2015.0    600120\n",
       "2014.0    498027\n",
       "2013.0    422427\n",
       "2012.0    394267\n",
       "2011.0    333625\n",
       "Name: YEAR, dtype: int64"
      ]
     },
     "execution_count": 33,
     "metadata": {},
     "output_type": "execute_result"
    }
   ],
   "source": [
    "# Petition distribution by year\n",
    "h1b['YEAR'].value_counts()"
   ]
  },
  {
   "cell_type": "code",
   "execution_count": 34,
   "id": "e241141f",
   "metadata": {},
   "outputs": [
    {
     "data": {
      "image/png": "[encoded data removed]",
      "text/plain": [
       "<Figure size 432x288 with 1 Axes>"
      ]
     },
     "metadata": {
      "needs_background": "light"
     },
     "output_type": "display_data"
    }
   ],
   "source": [
    "h1b['YEAR'].value_counts().plot(kind='bar')\n",
    "plt.xlabel('Year')\n",
    "plt.ylabel('Number of Petitions')\n",
    "plt.title('H1B Petition Distribution by Year')\n",
    "plt.show()"
   ]
  },
  {
   "cell_type": "code",
   "execution_count": 35,
   "id": "14ab7adc",
   "metadata": {},
   "outputs": [
    {
     "data": {
      "text/plain": [
       "85161"
      ]
     },
     "execution_count": 35,
     "metadata": {},
     "output_type": "execute_result"
    }
   ],
   "source": [
    "# Number of visa petitions denied\n",
    "h1b['CASE_STATUS'].value_counts().loc['DENIED']"
   ]
  },
  {
   "cell_type": "code",
   "execution_count": 36,
   "id": "07bc5c84",
   "metadata": {},
   "outputs": [
    {
     "data": {
      "image/png": "[encoded data removed]",
      "text/plain": [
       "<Figure size 432x288 with 1 Axes>"
      ]
     },
     "metadata": {
      "needs_background": "light"
     },
     "output_type": "display_data"
    }
   ],
   "source": [
    "# Rate of visas denied from last 5 years\n",
    "h=h1b[h1b['CASE_STATUS'] == 'DENIED'].groupby('YEAR').size()\n",
    "h.plot(x='YEAR',y=h,kind='bar')\n",
    "plt.show()"
   ]
  },
  {
   "cell_type": "code",
   "execution_count": 37,
   "id": "b11cc4e4",
   "metadata": {},
   "outputs": [
    {
     "data": {
      "text/plain": [
       " CALIFORNIA              548539\n",
       " TEXAS                   286704\n",
       " NEW YORK                282429\n",
       " NEW JERSEY              206876\n",
       " ILLINOIS                154843\n",
       " MASSACHUSETTS           112659\n",
       " PENNSYLVANIA            103729\n",
       " WASHINGTON              100754\n",
       " FLORIDA                 100384\n",
       " GEORGIA                  99679\n",
       " VIRGINIA                 86948\n",
       " MICHIGAN                 77868\n",
       " NORTH CAROLINA           75701\n",
       " OHIO                     71765\n",
       " MARYLAND                 53145\n",
       " CONNECTICUT              48174\n",
       " MINNESOTA                45864\n",
       " ARIZONA                  40184\n",
       " MISSOURI                 32737\n",
       " WISCONSIN                30485\n",
       " COLORADO                 30231\n",
       " INDIANA                  28230\n",
       " TENNESSEE                25906\n",
       " OREGON                   22759\n",
       " DISTRICT OF COLUMBIA     22408\n",
       " DELAWARE                 17705\n",
       " IOWA                     15143\n",
       " ARKANSAS                 13775\n",
       " KANSAS                   12331\n",
       " UTAH                     12162\n",
       " RHODE ISLAND             11316\n",
       " SOUTH CAROLINA           11246\n",
       " KENTUCKY                 10968\n",
       " LOUISIANA                10043\n",
       " OKLAHOMA                  9437\n",
       " NEW HAMPSHIRE             9069\n",
       " ALABAMA                   8644\n",
       " NEBRASKA                  8600\n",
       " NEVADA                    7004\n",
       " NEW MEXICO                4655\n",
       " IDAHO                     3777\n",
       " HAWAII                    3157\n",
       " MAINE                     3132\n",
       " NA                        3069\n",
       " MISSISSIPPI               2686\n",
       " NORTH DAKOTA              2510\n",
       " WEST VIRGINIA             2121\n",
       " SOUTH DAKOTA              1582\n",
       " VERMONT                   1248\n",
       " ALASKA                    1116\n",
       " PUERTO RICO                931\n",
       " WYOMING                    693\n",
       " MONTANA                    644\n",
       "Name: WORKSITE, dtype: int64"
      ]
     },
     "execution_count": 37,
     "metadata": {},
     "output_type": "execute_result"
    }
   ],
   "source": [
    "# Number of visa petitions filed by states\n",
    "h1b['WORKSITE'].str.split(',').str[1].value_counts()"
   ]
  },
  {
   "cell_type": "code",
   "execution_count": 38,
   "id": "89d84f85",
   "metadata": {},
   "outputs": [
    {
     "data": {
      "text/plain": [
       "WORKSITE\n",
       " ALABAMA                   8644\n",
       " ALASKA                    1116\n",
       " ARIZONA                  40184\n",
       " ARKANSAS                 13775\n",
       " CALIFORNIA              548539\n",
       " COLORADO                 30231\n",
       " CONNECTICUT              48174\n",
       " DELAWARE                 17705\n",
       " DISTRICT OF COLUMBIA     22408\n",
       " FLORIDA                 100384\n",
       " GEORGIA                  99679\n",
       " HAWAII                    3157\n",
       " IDAHO                     3777\n",
       " ILLINOIS                154843\n",
       " INDIANA                  28230\n",
       " IOWA                     15143\n",
       " KANSAS                   12331\n",
       " KENTUCKY                 10968\n",
       " LOUISIANA                10043\n",
       " MAINE                     3132\n",
       " MARYLAND                 53145\n",
       " MASSACHUSETTS           112659\n",
       " MICHIGAN                 77868\n",
       " MINNESOTA                45864\n",
       " MISSISSIPPI               2686\n",
       " MISSOURI                 32737\n",
       " MONTANA                    644\n",
       " NA                        3069\n",
       " NEBRASKA                  8600\n",
       " NEVADA                    7004\n",
       " NEW HAMPSHIRE             9069\n",
       " NEW JERSEY              206876\n",
       " NEW MEXICO                4655\n",
       " NEW YORK                282429\n",
       " NORTH CAROLINA           75701\n",
       " NORTH DAKOTA              2510\n",
       " OHIO                     71765\n",
       " OKLAHOMA                  9437\n",
       " OREGON                   22759\n",
       " PENNSYLVANIA            103729\n",
       " PUERTO RICO                931\n",
       " RHODE ISLAND             11316\n",
       " SOUTH CAROLINA           11246\n",
       " SOUTH DAKOTA              1582\n",
       " TENNESSEE                25906\n",
       " TEXAS                   286704\n",
       " UTAH                     12162\n",
       " VERMONT                   1248\n",
       " VIRGINIA                 86948\n",
       " WASHINGTON              100754\n",
       " WEST VIRGINIA             2121\n",
       " WISCONSIN                30485\n",
       " WYOMING                    693\n",
       "Name: CASE_STATUS, dtype: int64"
      ]
     },
     "execution_count": 38,
     "metadata": {},
     "output_type": "execute_result"
    }
   ],
   "source": [
    "# Rate of denial of visa petition by the states\n",
    "h=h1b['CASE_STATUS']=='DENIED'\n",
    "h.groupby(h1b['WORKSITE'].str.split(',').str[1]).size()"
   ]
  },
  {
   "cell_type": "code",
   "execution_count": 39,
   "id": "7008a963",
   "metadata": {},
   "outputs": [
    {
     "data": {
      "text/plain": [
       "PROGRAMMER ANALYST             243357\n",
       "SOFTWARE ENGINEER              118897\n",
       "COMPUTER PROGRAMMER             68696\n",
       "SYSTEMS ANALYST                 60754\n",
       "SOFTWARE DEVELOPER              41875\n",
       "BUSINESS ANALYST                38781\n",
       "COMPUTER SYSTEMS ANALYST        34036\n",
       "TECHNOLOGY LEAD - US            28307\n",
       "SENIOR SOFTWARE ENGINEER        26617\n",
       "TECHNOLOGY ANALYST - US         26010\n",
       "ASSISTANT PROFESSOR             24436\n",
       "SENIOR CONSULTANT               24120\n",
       "CONSULTANT                      22643\n",
       "PROJECT MANAGER                 19015\n",
       "DATABASE ADMINISTRATOR          16108\n",
       "PHYSICAL THERAPIST              14203\n",
       "RESEARCH ASSOCIATE              13409\n",
       "COMPUTER PROGRAMMER ANALYST     13116\n",
       "ACCOUNTANT                      12934\n",
       "DEVELOPER                       12737\n",
       "ASSOCIATE                       12447\n",
       "ANALYST                         11644\n",
       "LEAD ENGINEER                   11012\n",
       "SENIOR SOFTWARE DEVELOPER       10031\n",
       "SYSTEMS ENGINEER - US           10020\n",
       "Name: JOB_TITLE, dtype: int64"
      ]
     },
     "execution_count": 39,
     "metadata": {},
     "output_type": "execute_result"
    }
   ],
   "source": [
    "# Top 25 job titles\n",
    "h1b['JOB_TITLE'].value_counts()[0:25]"
   ]
  },
  {
   "cell_type": "code",
   "execution_count": 40,
   "id": "9fe15c65",
   "metadata": {},
   "outputs": [
    {
     "data": {
      "text/html": [
       "<div>\n",
       "<style scoped>\n",
       "    .dataframe tbody tr th:only-of-type {\n",
       "        vertical-align: middle;\n",
       "    }\n",
       "\n",
       "    .dataframe tbody tr th {\n",
       "        vertical-align: top;\n",
       "    }\n",
       "\n",
       "    .dataframe thead th {\n",
       "        text-align: right;\n",
       "    }\n",
       "</style>\n",
       "<table border=\"1\" class=\"dataframe\">\n",
       "  <thead>\n",
       "    <tr style=\"text-align: right;\">\n",
       "      <th></th>\n",
       "      <th>index</th>\n",
       "      <th>JOB_TITLE</th>\n",
       "      <th>PREVAILING_WAGE</th>\n",
       "    </tr>\n",
       "  </thead>\n",
       "  <tbody>\n",
       "    <tr>\n",
       "      <th>0</th>\n",
       "      <td>2163248</td>\n",
       "      <td>PHYSICAL THERAPISTS</td>\n",
       "      <td>6.997607e+09</td>\n",
       "    </tr>\n",
       "    <tr>\n",
       "      <th>1</th>\n",
       "      <td>2797982</td>\n",
       "      <td>SOFTWARE DEVELOPER</td>\n",
       "      <td>1.007814e+09</td>\n",
       "    </tr>\n",
       "    <tr>\n",
       "      <th>2</th>\n",
       "      <td>1673867</td>\n",
       "      <td>PROJECT MANAGER</td>\n",
       "      <td>8.201323e+08</td>\n",
       "    </tr>\n",
       "    <tr>\n",
       "      <th>3</th>\n",
       "      <td>1819718</td>\n",
       "      <td>.NET DEVELOPER</td>\n",
       "      <td>7.099999e+08</td>\n",
       "    </tr>\n",
       "    <tr>\n",
       "      <th>4</th>\n",
       "      <td>1547574</td>\n",
       "      <td>PROGRAMMER/ANALYST</td>\n",
       "      <td>6.169317e+08</td>\n",
       "    </tr>\n",
       "    <tr>\n",
       "      <th>5</th>\n",
       "      <td>1668384</td>\n",
       "      <td>RESEARCH ASSOCIATE</td>\n",
       "      <td>4.134726e+08</td>\n",
       "    </tr>\n",
       "    <tr>\n",
       "      <th>6</th>\n",
       "      <td>1805875</td>\n",
       "      <td>MANAGER, SOFTWARE ENGINEERING</td>\n",
       "      <td>4.103154e+08</td>\n",
       "    </tr>\n",
       "    <tr>\n",
       "      <th>7</th>\n",
       "      <td>2796071</td>\n",
       "      <td>MANAGING DIRECTOR, EQUITY DERIVATIVES</td>\n",
       "      <td>4.066379e+08</td>\n",
       "    </tr>\n",
       "    <tr>\n",
       "      <th>8</th>\n",
       "      <td>2586866</td>\n",
       "      <td>CHIEF INVESTMENT OFFICER</td>\n",
       "      <td>3.783437e+08</td>\n",
       "    </tr>\n",
       "    <tr>\n",
       "      <th>9</th>\n",
       "      <td>1780069</td>\n",
       "      <td>CHIEF FINANCIAL OFFICER, HUNTSWORTH HEALTH GLOBAL</td>\n",
       "      <td>3.610381e+08</td>\n",
       "    </tr>\n",
       "  </tbody>\n",
       "</table>\n",
       "</div>"
      ],
      "text/plain": [
       "     index                                          JOB_TITLE  PREVAILING_WAGE\n",
       "0  2163248                                PHYSICAL THERAPISTS     6.997607e+09\n",
       "1  2797982                                 SOFTWARE DEVELOPER     1.007814e+09\n",
       "2  1673867                                    PROJECT MANAGER     8.201323e+08\n",
       "3  1819718                                     .NET DEVELOPER     7.099999e+08\n",
       "4  1547574                                 PROGRAMMER/ANALYST     6.169317e+08\n",
       "5  1668384                                 RESEARCH ASSOCIATE     4.134726e+08\n",
       "6  1805875                      MANAGER, SOFTWARE ENGINEERING     4.103154e+08\n",
       "7  2796071              MANAGING DIRECTOR, EQUITY DERIVATIVES     4.066379e+08\n",
       "8  2586866                           CHIEF INVESTMENT OFFICER     3.783437e+08\n",
       "9  1780069  CHIEF FINANCIAL OFFICER, HUNTSWORTH HEALTH GLOBAL     3.610381e+08"
      ]
     },
     "execution_count": 40,
     "metadata": {},
     "output_type": "execute_result"
    }
   ],
   "source": [
    "# Top 10 occupations with the highest wages\n",
    "h1b.sort_values('PREVAILING_WAGE',ascending=False)[['JOB_TITLE','PREVAILING_WAGE']][0:10].reset_index()"
   ]
  },
  {
   "cell_type": "code",
   "execution_count": 45,
   "id": "3c5d5124",
   "metadata": {},
   "outputs": [
    {
     "data": {
      "image/png": "[encoded data removed]",
      "text/plain": [
       "<Figure size 432x288 with 1 Axes>"
      ]
     },
     "metadata": {},
     "output_type": "display_data"
    }
   ],
   "source": [
    "# To analyse the fraction of full-time and part-time workers\n",
    "h1b['FULL_TIME_POSITION'].value_counts().plot(kind=\"pie\",explode=[0, 0.2],autopct=\"%.2f%%\",shadow=True)\n",
    "plt.title(\"Fractions of Workers\")\n",
    "plt.show()"
   ]
  },
  {
   "cell_type": "code",
   "execution_count": null,
   "id": "08816d03",
   "metadata": {},
   "outputs": [],
   "source": []
  }
 ],
 "metadata": {
  "kernelspec": {
   "display_name": "Python 3 (ipykernel)",
   "language": "python",
   "name": "python3"
  },
  "language_info": {
   "codemirror_mode": {
    "name": "ipython",
    "version": 3
   },
   "file_extension": ".py",
   "mimetype": "text/x-python",
   "name": "python",
   "nbconvert_exporter": "python",
   "pygments_lexer": "ipython3",
   "version": "3.9.7"
  }
 },
 "nbformat": 4,
 "nbformat_minor": 5
}
