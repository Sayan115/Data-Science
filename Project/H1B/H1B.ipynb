{
 "cells": [
  {
   "cell_type": "markdown",
   "id": "fea04884",
   "metadata": {},
   "source": [
    "# H1B dataset"
   ]
  },
  {
   "cell_type": "code",
   "execution_count": 1,
   "id": "b7b9c6e1",
   "metadata": {},
   "outputs": [],
   "source": [
    "import pandas as pd\n",
    "import matplotlib.pyplot as plt\n",
    "import seaborn as sns\n",
    "import numpy as np"
   ]
  },
  {
   "cell_type": "code",
   "execution_count": 4,
   "id": "b9d1be4f",
   "metadata": {},
   "outputs": [],
   "source": [
    "h1b=pd.read_csv(\"H1B.csv\")"
   ]
  },
  {
   "cell_type": "markdown",
   "id": "b314152b",
   "metadata": {},
   "source": [
    "### Overview of the data"
   ]
  },
  {
   "cell_type": "code",
   "execution_count": 5,
   "id": "f8f1feca",
   "metadata": {},
   "outputs": [
    {
     "data": {
      "text/html": [
       "<div>\n",
       "<style scoped>\n",
       "    .dataframe tbody tr th:only-of-type {\n",
       "        vertical-align: middle;\n",
       "    }\n",
       "\n",
       "    .dataframe tbody tr th {\n",
       "        vertical-align: top;\n",
       "    }\n",
       "\n",
       "    .dataframe thead th {\n",
       "        text-align: right;\n",
       "    }\n",
       "</style>\n",
       "<table border=\"1\" class=\"dataframe\">\n",
       "  <thead>\n",
       "    <tr style=\"text-align: right;\">\n",
       "      <th></th>\n",
       "      <th>Unnamed: 0</th>\n",
       "      <th>CASE_STATUS</th>\n",
       "      <th>EMPLOYER_NAME</th>\n",
       "      <th>SOC_NAME</th>\n",
       "      <th>JOB_TITLE</th>\n",
       "      <th>FULL_TIME_POSITION</th>\n",
       "      <th>PREVAILING_WAGE</th>\n",
       "      <th>YEAR</th>\n",
       "      <th>WORKSITE</th>\n",
       "      <th>lon</th>\n",
       "      <th>lat</th>\n",
       "    </tr>\n",
       "  </thead>\n",
       "  <tbody>\n",
       "    <tr>\n",
       "      <th>0</th>\n",
       "      <td>1</td>\n",
       "      <td>CERTIFIED-WITHDRAWN</td>\n",
       "      <td>UNIVERSITY OF MICHIGAN</td>\n",
       "      <td>BIOCHEMISTS AND BIOPHYSICISTS</td>\n",
       "      <td>POSTDOCTORAL RESEARCH FELLOW</td>\n",
       "      <td>N</td>\n",
       "      <td>36067.0</td>\n",
       "      <td>2016</td>\n",
       "      <td>ANN ARBOR, MICHIGAN</td>\n",
       "      <td>-83.743038</td>\n",
       "      <td>42.280826</td>\n",
       "    </tr>\n",
       "    <tr>\n",
       "      <th>1</th>\n",
       "      <td>2</td>\n",
       "      <td>CERTIFIED-WITHDRAWN</td>\n",
       "      <td>GOODMAN NETWORKS, INC.</td>\n",
       "      <td>CHIEF EXECUTIVES</td>\n",
       "      <td>CHIEF OPERATING OFFICER</td>\n",
       "      <td>Y</td>\n",
       "      <td>242674.0</td>\n",
       "      <td>2016</td>\n",
       "      <td>PLANO, TEXAS</td>\n",
       "      <td>-96.698886</td>\n",
       "      <td>33.019843</td>\n",
       "    </tr>\n",
       "    <tr>\n",
       "      <th>2</th>\n",
       "      <td>3</td>\n",
       "      <td>CERTIFIED-WITHDRAWN</td>\n",
       "      <td>PORTS AMERICA GROUP, INC.</td>\n",
       "      <td>CHIEF EXECUTIVES</td>\n",
       "      <td>CHIEF PROCESS OFFICER</td>\n",
       "      <td>Y</td>\n",
       "      <td>193066.0</td>\n",
       "      <td>2016</td>\n",
       "      <td>JERSEY CITY, NEW JERSEY</td>\n",
       "      <td>-74.077642</td>\n",
       "      <td>40.728158</td>\n",
       "    </tr>\n",
       "    <tr>\n",
       "      <th>3</th>\n",
       "      <td>4</td>\n",
       "      <td>CERTIFIED-WITHDRAWN</td>\n",
       "      <td>GATES CORPORATION, A WHOLLY-OWNED SUBSIDIARY O...</td>\n",
       "      <td>CHIEF EXECUTIVES</td>\n",
       "      <td>REGIONAL PRESIDEN, AMERICAS</td>\n",
       "      <td>Y</td>\n",
       "      <td>220314.0</td>\n",
       "      <td>2016</td>\n",
       "      <td>DENVER, COLORADO</td>\n",
       "      <td>-104.990251</td>\n",
       "      <td>39.739236</td>\n",
       "    </tr>\n",
       "    <tr>\n",
       "      <th>4</th>\n",
       "      <td>5</td>\n",
       "      <td>WITHDRAWN</td>\n",
       "      <td>PEABODY INVESTMENTS CORP.</td>\n",
       "      <td>CHIEF EXECUTIVES</td>\n",
       "      <td>PRESIDENT MONGOLIA AND INDIA</td>\n",
       "      <td>Y</td>\n",
       "      <td>157518.4</td>\n",
       "      <td>2016</td>\n",
       "      <td>ST. LOUIS, MISSOURI</td>\n",
       "      <td>-90.199404</td>\n",
       "      <td>38.627003</td>\n",
       "    </tr>\n",
       "  </tbody>\n",
       "</table>\n",
       "</div>"
      ],
      "text/plain": [
       "   Unnamed: 0          CASE_STATUS  \\\n",
       "0           1  CERTIFIED-WITHDRAWN   \n",
       "1           2  CERTIFIED-WITHDRAWN   \n",
       "2           3  CERTIFIED-WITHDRAWN   \n",
       "3           4  CERTIFIED-WITHDRAWN   \n",
       "4           5            WITHDRAWN   \n",
       "\n",
       "                                       EMPLOYER_NAME  \\\n",
       "0                             UNIVERSITY OF MICHIGAN   \n",
       "1                             GOODMAN NETWORKS, INC.   \n",
       "2                          PORTS AMERICA GROUP, INC.   \n",
       "3  GATES CORPORATION, A WHOLLY-OWNED SUBSIDIARY O...   \n",
       "4                          PEABODY INVESTMENTS CORP.   \n",
       "\n",
       "                        SOC_NAME                     JOB_TITLE  \\\n",
       "0  BIOCHEMISTS AND BIOPHYSICISTS  POSTDOCTORAL RESEARCH FELLOW   \n",
       "1               CHIEF EXECUTIVES       CHIEF OPERATING OFFICER   \n",
       "2               CHIEF EXECUTIVES         CHIEF PROCESS OFFICER   \n",
       "3               CHIEF EXECUTIVES   REGIONAL PRESIDEN, AMERICAS   \n",
       "4               CHIEF EXECUTIVES  PRESIDENT MONGOLIA AND INDIA   \n",
       "\n",
       "  FULL_TIME_POSITION  PREVAILING_WAGE  YEAR                 WORKSITE  \\\n",
       "0                  N          36067.0  2016      ANN ARBOR, MICHIGAN   \n",
       "1                  Y         242674.0  2016             PLANO, TEXAS   \n",
       "2                  Y         193066.0  2016  JERSEY CITY, NEW JERSEY   \n",
       "3                  Y         220314.0  2016         DENVER, COLORADO   \n",
       "4                  Y         157518.4  2016      ST. LOUIS, MISSOURI   \n",
       "\n",
       "          lon        lat  \n",
       "0  -83.743038  42.280826  \n",
       "1  -96.698886  33.019843  \n",
       "2  -74.077642  40.728158  \n",
       "3 -104.990251  39.739236  \n",
       "4  -90.199404  38.627003  "
      ]
     },
     "execution_count": 5,
     "metadata": {},
     "output_type": "execute_result"
    }
   ],
   "source": [
    "h1b.head()"
   ]
  },
  {
   "cell_type": "code",
   "execution_count": 6,
   "id": "e9a64d38",
   "metadata": {},
   "outputs": [
    {
     "name": "stdout",
     "output_type": "stream",
     "text": [
      "<class 'pandas.core.frame.DataFrame'>\n",
      "RangeIndex: 1048575 entries, 0 to 1048574\n",
      "Data columns (total 11 columns):\n",
      " #   Column              Non-Null Count    Dtype  \n",
      "---  ------              --------------    -----  \n",
      " 0   Unnamed: 0          1048575 non-null  int64  \n",
      " 1   CASE_STATUS         1048575 non-null  object \n",
      " 2   EMPLOYER_NAME       1048556 non-null  object \n",
      " 3   SOC_NAME            1048564 non-null  object \n",
      " 4   JOB_TITLE           1048567 non-null  object \n",
      " 5   FULL_TIME_POSITION  1048574 non-null  object \n",
      " 6   PREVAILING_WAGE     1048571 non-null  float64\n",
      " 7   YEAR                1048575 non-null  int64  \n",
      " 8   WORKSITE            1048575 non-null  object \n",
      " 9   lon                 1019007 non-null  float64\n",
      " 10  lat                 1019007 non-null  float64\n",
      "dtypes: float64(3), int64(2), object(6)\n",
      "memory usage: 88.0+ MB\n"
     ]
    }
   ],
   "source": [
    "h1b.info()"
   ]
  },
  {
   "cell_type": "markdown",
   "id": "88b89c37",
   "metadata": {},
   "source": [
    "### Data Cleansing"
   ]
  },
  {
   "cell_type": "code",
   "execution_count": 8,
   "id": "6e0b10e8",
   "metadata": {},
   "outputs": [
    {
     "data": {
      "text/plain": [
       "Unnamed: 0                0\n",
       "CASE_STATUS               0\n",
       "EMPLOYER_NAME            19\n",
       "SOC_NAME                 11\n",
       "JOB_TITLE                 8\n",
       "FULL_TIME_POSITION        1\n",
       "PREVAILING_WAGE           4\n",
       "YEAR                      0\n",
       "WORKSITE                  0\n",
       "lon                   29568\n",
       "lat                   29568\n",
       "dtype: int64"
      ]
     },
     "execution_count": 8,
     "metadata": {},
     "output_type": "execute_result"
    }
   ],
   "source": [
    "h1b.isnull().sum()"
   ]
  },
  {
   "cell_type": "code",
   "execution_count": 13,
   "id": "4cda8d7f",
   "metadata": {},
   "outputs": [],
   "source": [
    "h1b=h1b.dropna()"
   ]
  },
  {
   "cell_type": "code",
   "execution_count": 14,
   "id": "af5403e2",
   "metadata": {},
   "outputs": [
    {
     "data": {
      "text/plain": [
       "Unnamed: 0            0\n",
       "CASE_STATUS           0\n",
       "EMPLOYER_NAME         0\n",
       "SOC_NAME              0\n",
       "JOB_TITLE             0\n",
       "FULL_TIME_POSITION    0\n",
       "PREVAILING_WAGE       0\n",
       "YEAR                  0\n",
       "WORKSITE              0\n",
       "lon                   0\n",
       "lat                   0\n",
       "dtype: int64"
      ]
     },
     "execution_count": 14,
     "metadata": {},
     "output_type": "execute_result"
    }
   ],
   "source": [
    "h1b.isnull().sum()"
   ]
  },
  {
   "cell_type": "markdown",
   "id": "8b576553",
   "metadata": {},
   "source": [
    "### Analysis of the Dataset"
   ]
  },
  {
   "cell_type": "code",
   "execution_count": 25,
   "id": "a4f4a3c2",
   "metadata": {},
   "outputs": [
    {
     "name": "stdout",
     "output_type": "stream",
     "text": [
      "['CERTIFIED-WITHDRAWN' 'WITHDRAWN' 'CERTIFIED' 'DENIED']\n"
     ]
    }
   ],
   "source": [
    "# Petition distributed by case statuses\n",
    "print(h1b['CASE_STATUS'].unique())"
   ]
  },
  {
   "cell_type": "code",
   "execution_count": 30,
   "id": "b0724ce2",
   "metadata": {},
   "outputs": [
    {
     "data": {
      "text/plain": [
       "INFOSYS LIMITED                      48608\n",
       "TATA CONSULTANCY SERVICES LIMITED    22925\n",
       "IBM INDIA PRIVATE LIMITED            18859\n",
       "WIPRO LIMITED                        18497\n",
       "CAPGEMINI AMERICA INC                16628\n",
       "                                     ...  \n",
       "ODIS INC.                                1\n",
       "PEAK DEMAND, INC.                        1\n",
       "ADMEDES INC.                             1\n",
       "HAHN AUTOMATION, INC.                    1\n",
       "KENNARD                                  1\n",
       "Name: EMPLOYER_NAME, Length: 92675, dtype: int64"
      ]
     },
     "execution_count": 30,
     "metadata": {},
     "output_type": "execute_result"
    }
   ],
   "source": [
    "# Top employers filing the petitions\n",
    "h1b['EMPLOYER_NAME'].value_counts()"
   ]
  },
  {
   "cell_type": "code",
   "execution_count": 29,
   "id": "837b4f97",
   "metadata": {},
   "outputs": [
    {
     "data": {
      "text/plain": [
       "INFOSYS LIMITED                                    48608\n",
       "TATA CONSULTANCY SERVICES LIMITED                  22925\n",
       "IBM INDIA PRIVATE LIMITED                          18859\n",
       "WIPRO LIMITED                                      18497\n",
       "CAPGEMINI AMERICA INC                              16628\n",
       "ACCENTURE LLP                                      15882\n",
       "DELOITTE CONSULTING LLP                            11877\n",
       "TECH MAHINDRA (AMERICAS),INC.                       9133\n",
       "HCL AMERICA, INC.                                   8795\n",
       "MICROSOFT CORPORATION                               8104\n",
       "ERNST & YOUNG U.S. LLP                              7339\n",
       "COGNIZANT TECHNOLOGY SOLUTIONS U.S. CORPORATION     7322\n",
       "GOOGLE INC.                                         7296\n",
       "IGATE TECHNOLOGIES INC.                             5220\n",
       "LARSEN & TOUBRO INFOTECH LIMITED                    4549\n",
       "Name: EMPLOYER_NAME, dtype: int64"
      ]
     },
     "execution_count": 29,
     "metadata": {},
     "output_type": "execute_result"
    }
   ],
   "source": [
    "# Top 15 companies that filed the most visa application\n",
    "h1b['EMPLOYER_NAME'].value_counts()[0:15]"
   ]
  },
  {
   "cell_type": "code",
   "execution_count": 86,
   "id": "aad5b0ff",
   "metadata": {},
   "outputs": [
    {
     "name": "stdout",
     "output_type": "stream",
     "text": [
      "    index                        EMPLOYER_NAME  PREVAILING_WAGE\n",
      "0    5579                   E AND D MEDIA INC.      329139200.0\n",
      "1  633103  U.S. DEPARTMENT OF VETERANS AFFAIRS      311804480.0\n",
      "2  813742             FRANCISCAN HEALTH SYSTEM      306741760.0\n",
      "3  774072             FRANCISCAN HEALTH SYSTEM      306741760.0\n",
      "4   10954           TERRALOGIC SOLUTIONS, INC.      259496640.0\n"
     ]
    }
   ],
   "source": [
    "# Top employers granting maximum prevailing wages\n",
    "print(h1b.sort_values(by=\"PREVAILING_WAGE\",ascending=False)[['EMPLOYER_NAME','PREVAILING_WAGE']][0:5].reset_index())"
   ]
  },
  {
   "cell_type": "code",
   "execution_count": 93,
   "id": "0a4e572a",
   "metadata": {},
   "outputs": [
    {
     "data": {
      "text/plain": [
       " CALIFORNIA        192930\n",
       " TEXAS             107841\n",
       " NEW YORK           90022\n",
       " NEW JERSEY         80967\n",
       " ILLINOIS           55159\n",
       " GEORGIA            39563\n",
       " MASSACHUSETTS      38899\n",
       " WASHINGTON         36187\n",
       " PENNSYLVANIA       35457\n",
       " FLORIDA            32967\n",
       " MICHIGAN           32221\n",
       " VIRGINIA           31298\n",
       " NORTH CAROLINA     28597\n",
       " OHIO               25453\n",
       " MARYLAND           16835\n",
       " CONNECTICUT        16113\n",
       " MINNESOTA          15487\n",
       " ARIZONA            14684\n",
       " MISSOURI           11922\n",
       " WISCONSIN          10892\n",
       "Name: WORKSITE, dtype: int64"
      ]
     },
     "execution_count": 93,
     "metadata": {},
     "output_type": "execute_result"
    }
   ],
   "source": [
    "# Top 20 states filing highest visa petitions\n",
    "h1b['WORKSITE'].str.split(',').str[1].value_counts()[0:20]"
   ]
  },
  {
   "cell_type": "code",
   "execution_count": 119,
   "id": "e241141f",
   "metadata": {},
   "outputs": [
    {
     "data": {
      "image/png": "[encoded data removed]",
      "text/plain": [
       "<Figure size 432x288 with 1 Axes>"
      ]
     },
     "metadata": {
      "needs_background": "light"
     },
     "output_type": "display_data"
    }
   ],
   "source": [
    "# Petition distribution by year\n",
    "h1b['YEAR'].value_counts().plot(kind='bar')\n",
    "plt.xlabel('Year')\n",
    "plt.ylabel('Number of Petitions')\n",
    "plt.title('H1B Petition Distribution by Year')\n",
    "plt.show()"
   ]
  },
  {
   "cell_type": "code",
   "execution_count": 197,
   "id": "14ab7adc",
   "metadata": {},
   "outputs": [
    {
     "data": {
      "text/plain": [
       "14496"
      ]
     },
     "execution_count": 197,
     "metadata": {},
     "output_type": "execute_result"
    }
   ],
   "source": [
    "# Number of visa petitions denied\n",
    "h1b['CASE_STATUS'].value_counts().loc['DENIED']"
   ]
  },
  {
   "cell_type": "code",
   "execution_count": 204,
   "id": "07bc5c84",
   "metadata": {},
   "outputs": [
    {
     "data": {
      "image/png": "[encoded data removed]",
      "text/plain": [
       "<Figure size 432x288 with 1 Axes>"
      ]
     },
     "metadata": {
      "needs_background": "light"
     },
     "output_type": "display_data"
    }
   ],
   "source": [
    "# Rate of visas denied from last 5 years\n",
    "h=h1b[h1b['CASE_STATUS'] == 'DENIED'].groupby('YEAR').size()\n",
    "h.plot(x='YEAR',y=h,kind='bar')\n",
    "plt.show()"
   ]
  },
  {
   "cell_type": "code",
   "execution_count": 129,
   "id": "b11cc4e4",
   "metadata": {},
   "outputs": [
    {
     "data": {
      "text/plain": [
       " CALIFORNIA              192930\n",
       " TEXAS                   107841\n",
       " NEW YORK                 90022\n",
       " NEW JERSEY               80967\n",
       " ILLINOIS                 55159\n",
       " GEORGIA                  39563\n",
       " MASSACHUSETTS            38899\n",
       " WASHINGTON               36187\n",
       " PENNSYLVANIA             35457\n",
       " FLORIDA                  32967\n",
       " MICHIGAN                 32221\n",
       " VIRGINIA                 31298\n",
       " NORTH CAROLINA           28597\n",
       " OHIO                     25453\n",
       " MARYLAND                 16835\n",
       " CONNECTICUT              16113\n",
       " MINNESOTA                15487\n",
       " ARIZONA                  14684\n",
       " MISSOURI                 11922\n",
       " WISCONSIN                10892\n",
       " COLORADO                 10410\n",
       " INDIANA                   9659\n",
       " TENNESSEE                 8358\n",
       " OREGON                    7595\n",
       " DISTRICT OF COLUMBIA      6552\n",
       " DELAWARE                  5888\n",
       " ARKANSAS                  4941\n",
       " IOWA                      4532\n",
       " UTAH                      4393\n",
       " SOUTH CAROLINA            4263\n",
       " RHODE ISLAND              4119\n",
       " KANSAS                    4040\n",
       " LOUISIANA                 3730\n",
       " KENTUCKY                  3688\n",
       " NEW HAMPSHIRE             3093\n",
       " NEBRASKA                  3009\n",
       " OKLAHOMA                  2976\n",
       " ALABAMA                   2817\n",
       " NEVADA                    2121\n",
       " NEW MEXICO                1421\n",
       " IDAHO                     1289\n",
       " MAINE                      930\n",
       " NA                         889\n",
       " MISSISSIPPI                813\n",
       " HAWAII                     781\n",
       " NORTH DAKOTA               751\n",
       " WEST VIRGINIA              671\n",
       " SOUTH DAKOTA               495\n",
       " VERMONT                    368\n",
       " ALASKA                     272\n",
       " MONTANA                    224\n",
       " PUERTO RICO                213\n",
       " WYOMING                    181\n",
       "Name: WORKSITE, dtype: int64"
      ]
     },
     "execution_count": 129,
     "metadata": {},
     "output_type": "execute_result"
    }
   ],
   "source": [
    "# Number of visa petitions filed by states\n",
    "h1b['WORKSITE'].str.split(',').str[1].value_counts()"
   ]
  },
  {
   "cell_type": "code",
   "execution_count": 154,
   "id": "89d84f85",
   "metadata": {},
   "outputs": [
    {
     "data": {
      "text/plain": [
       "WORKSITE\n",
       " ALABAMA                   2817\n",
       " ALASKA                     272\n",
       " ARIZONA                  14684\n",
       " ARKANSAS                  4941\n",
       " CALIFORNIA              192930\n",
       " COLORADO                 10410\n",
       " CONNECTICUT              16113\n",
       " DELAWARE                  5888\n",
       " DISTRICT OF COLUMBIA      6552\n",
       " FLORIDA                  32967\n",
       " GEORGIA                  39563\n",
       " HAWAII                     781\n",
       " IDAHO                     1289\n",
       " ILLINOIS                 55159\n",
       " INDIANA                   9659\n",
       " IOWA                      4532\n",
       " KANSAS                    4040\n",
       " KENTUCKY                  3688\n",
       " LOUISIANA                 3730\n",
       " MAINE                      930\n",
       " MARYLAND                 16835\n",
       " MASSACHUSETTS            38899\n",
       " MICHIGAN                 32221\n",
       " MINNESOTA                15487\n",
       " MISSISSIPPI                813\n",
       " MISSOURI                 11922\n",
       " MONTANA                    224\n",
       " NA                         889\n",
       " NEBRASKA                  3009\n",
       " NEVADA                    2121\n",
       " NEW HAMPSHIRE             3093\n",
       " NEW JERSEY               80967\n",
       " NEW MEXICO                1421\n",
       " NEW YORK                 90022\n",
       " NORTH CAROLINA           28597\n",
       " NORTH DAKOTA               751\n",
       " OHIO                     25453\n",
       " OKLAHOMA                  2976\n",
       " OREGON                    7595\n",
       " PENNSYLVANIA             35457\n",
       " PUERTO RICO                213\n",
       " RHODE ISLAND              4119\n",
       " SOUTH CAROLINA            4263\n",
       " SOUTH DAKOTA               495\n",
       " TENNESSEE                 8358\n",
       " TEXAS                   107841\n",
       " UTAH                      4393\n",
       " VERMONT                    368\n",
       " VIRGINIA                 31298\n",
       " WASHINGTON               36187\n",
       " WEST VIRGINIA              671\n",
       " WISCONSIN                10892\n",
       " WYOMING                    181\n",
       "Name: CASE_STATUS, dtype: int64"
      ]
     },
     "execution_count": 154,
     "metadata": {},
     "output_type": "execute_result"
    }
   ],
   "source": [
    "# Rate of denial of visa petition by the states\n",
    "h=h1b['CASE_STATUS']=='DENIED'\n",
    "h.groupby(h1b['WORKSITE'].str.split(',').str[1]).size()"
   ]
  },
  {
   "cell_type": "code",
   "execution_count": 155,
   "id": "7008a963",
   "metadata": {},
   "outputs": [
    {
     "data": {
      "text/plain": [
       "PROGRAMMER ANALYST             90361\n",
       "SOFTWARE ENGINEER              48691\n",
       "SOFTWARE DEVELOPER             20973\n",
       "COMPUTER PROGRAMMER            20627\n",
       "SYSTEMS ANALYST                20368\n",
       "BUSINESS ANALYST               15250\n",
       "COMPUTER SYSTEMS ANALYST       12212\n",
       "TECHNOLOGY LEAD - US           10515\n",
       "TECHNOLOGY ANALYST - US        10194\n",
       "SENIOR SOFTWARE ENGINEER        9843\n",
       "DEVELOPER                       8650\n",
       "CONSULTANT                      8387\n",
       "PROJECT MANAGER                 7490\n",
       "SENIOR CONSULTANT               6819\n",
       "ASSISTANT PROFESSOR             6786\n",
       "DATABASE ADMINISTRATOR          6187\n",
       "ANALYST                         4741\n",
       "SYSTEMS ENGINEER - US           4698\n",
       "LEAD ENGINEER                   4672\n",
       "COMPUTER PROGRAMMER ANALYST     4387\n",
       "ASSOCIATE                       4350\n",
       "DEVELOPER USER INTERFACE        4343\n",
       "ACCOUNTANT                      3835\n",
       "SENIOR SOFTWARE DEVELOPER       3814\n",
       "APPLICATION DEVELOPER           3628\n",
       "Name: JOB_TITLE, dtype: int64"
      ]
     },
     "execution_count": 155,
     "metadata": {},
     "output_type": "execute_result"
    }
   ],
   "source": [
    "# Top 25 job titles\n",
    "h1b['JOB_TITLE'].value_counts()[0:25]"
   ]
  },
  {
   "cell_type": "code",
   "execution_count": 163,
   "id": "9fe15c65",
   "metadata": {},
   "outputs": [
    {
     "data": {
      "text/html": [
       "<div>\n",
       "<style scoped>\n",
       "    .dataframe tbody tr th:only-of-type {\n",
       "        vertical-align: middle;\n",
       "    }\n",
       "\n",
       "    .dataframe tbody tr th {\n",
       "        vertical-align: top;\n",
       "    }\n",
       "\n",
       "    .dataframe thead th {\n",
       "        text-align: right;\n",
       "    }\n",
       "</style>\n",
       "<table border=\"1\" class=\"dataframe\">\n",
       "  <thead>\n",
       "    <tr style=\"text-align: right;\">\n",
       "      <th></th>\n",
       "      <th>index</th>\n",
       "      <th>JOB_TITLE</th>\n",
       "      <th>PREVAILING_WAGE</th>\n",
       "    </tr>\n",
       "  </thead>\n",
       "  <tbody>\n",
       "    <tr>\n",
       "      <th>0</th>\n",
       "      <td>5579</td>\n",
       "      <td>DIRECTOR, SOCIAL AND DIGITAL MEDIA</td>\n",
       "      <td>329139200.0</td>\n",
       "    </tr>\n",
       "    <tr>\n",
       "      <th>1</th>\n",
       "      <td>633103</td>\n",
       "      <td>PHYSICIAN</td>\n",
       "      <td>311804480.0</td>\n",
       "    </tr>\n",
       "    <tr>\n",
       "      <th>2</th>\n",
       "      <td>813742</td>\n",
       "      <td>HOSPITALIST</td>\n",
       "      <td>306741760.0</td>\n",
       "    </tr>\n",
       "    <tr>\n",
       "      <th>3</th>\n",
       "      <td>774072</td>\n",
       "      <td>HOSPITALIST</td>\n",
       "      <td>306741760.0</td>\n",
       "    </tr>\n",
       "    <tr>\n",
       "      <th>4</th>\n",
       "      <td>10954</td>\n",
       "      <td>QA MANAGER</td>\n",
       "      <td>259496640.0</td>\n",
       "    </tr>\n",
       "    <tr>\n",
       "      <th>5</th>\n",
       "      <td>812949</td>\n",
       "      <td>MANAGER, INFORMATION TECHNOLOGY</td>\n",
       "      <td>252141760.0</td>\n",
       "    </tr>\n",
       "    <tr>\n",
       "      <th>6</th>\n",
       "      <td>19772</td>\n",
       "      <td>GLOBAL BUSINESS MANAGER</td>\n",
       "      <td>251796480.0</td>\n",
       "    </tr>\n",
       "    <tr>\n",
       "      <th>7</th>\n",
       "      <td>943261</td>\n",
       "      <td>BUSINESS ANALYST</td>\n",
       "      <td>242971040.0</td>\n",
       "    </tr>\n",
       "    <tr>\n",
       "      <th>8</th>\n",
       "      <td>691658</td>\n",
       "      <td>STAFF DIGITAL VERIFICATION ENGINEER</td>\n",
       "      <td>221555360.0</td>\n",
       "    </tr>\n",
       "    <tr>\n",
       "      <th>9</th>\n",
       "      <td>295778</td>\n",
       "      <td>SR SALESFORCE DEVELOPER</td>\n",
       "      <td>218915840.0</td>\n",
       "    </tr>\n",
       "  </tbody>\n",
       "</table>\n",
       "</div>"
      ],
      "text/plain": [
       "    index                            JOB_TITLE  PREVAILING_WAGE\n",
       "0    5579   DIRECTOR, SOCIAL AND DIGITAL MEDIA      329139200.0\n",
       "1  633103                            PHYSICIAN      311804480.0\n",
       "2  813742                          HOSPITALIST      306741760.0\n",
       "3  774072                          HOSPITALIST      306741760.0\n",
       "4   10954                           QA MANAGER      259496640.0\n",
       "5  812949      MANAGER, INFORMATION TECHNOLOGY      252141760.0\n",
       "6   19772              GLOBAL BUSINESS MANAGER      251796480.0\n",
       "7  943261                     BUSINESS ANALYST      242971040.0\n",
       "8  691658  STAFF DIGITAL VERIFICATION ENGINEER      221555360.0\n",
       "9  295778              SR SALESFORCE DEVELOPER      218915840.0"
      ]
     },
     "execution_count": 163,
     "metadata": {},
     "output_type": "execute_result"
    }
   ],
   "source": [
    "# Top 10 occupations with the highest wages\n",
    "h1b.sort_values('PREVAILING_WAGE',ascending=False)[['JOB_TITLE','PREVAILING_WAGE']][0:10].reset_index()"
   ]
  },
  {
   "cell_type": "code",
   "execution_count": 188,
   "id": "3c5d5124",
   "metadata": {},
   "outputs": [
    {
     "data": {
      "image/png": "[encoded data removed]",
      "text/plain": [
       "<Figure size 432x288 with 1 Axes>"
      ]
     },
     "metadata": {},
     "output_type": "display_data"
    }
   ],
   "source": [
    "# To analyse the fraction of full-time and part-time workers\n",
    "h1b['FULL_TIME_POSITION'].value_counts().plot(kind=\"pie\",explode=[0, 0.05],autopct=\"%.2f%%\",shadow=True)\n",
    "plt.title(\"Fractions of Workers\")\n",
    "plt.show()"
   ]
  }
 ],
 "metadata": {
  "kernelspec": {
   "display_name": "Python 3 (ipykernel)",
   "language": "python",
   "name": "python3"
  },
  "language_info": {
   "codemirror_mode": {
    "name": "ipython",
    "version": 3
   },
   "file_extension": ".py",
   "mimetype": "text/x-python",
   "name": "python",
   "nbconvert_exporter": "python",
   "pygments_lexer": "ipython3",
   "version": "3.9.7"
  }
 },
 "nbformat": 4,
 "nbformat_minor": 5
}
