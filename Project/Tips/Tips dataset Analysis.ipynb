{
 "cells": [
  {
   "cell_type": "markdown",
   "id": "cd354622",
   "metadata": {},
   "source": [
    "# Analysis of Tips dataset of seaborn"
   ]
  },
  {
   "cell_type": "code",
   "execution_count": 1,
   "id": "fa7095df",
   "metadata": {},
   "outputs": [],
   "source": [
    "import numpy as np\n",
    "import seaborn as sns\n",
    "import matplotlib.pyplot as plt"
   ]
  },
  {
   "cell_type": "code",
   "execution_count": 2,
   "id": "4518a5e9",
   "metadata": {},
   "outputs": [],
   "source": [
    "tips=sns.load_dataset(\"tips\")"
   ]
  },
  {
   "cell_type": "markdown",
   "id": "aa8fc743",
   "metadata": {},
   "source": [
    "## Overview of Data"
   ]
  },
  {
   "cell_type": "code",
   "execution_count": 3,
   "id": "81f91606",
   "metadata": {},
   "outputs": [
    {
     "name": "stdout",
     "output_type": "stream",
     "text": [
      "<class 'pandas.core.frame.DataFrame'>\n",
      "RangeIndex: 244 entries, 0 to 243\n",
      "Data columns (total 7 columns):\n",
      " #   Column      Non-Null Count  Dtype   \n",
      "---  ------      --------------  -----   \n",
      " 0   total_bill  244 non-null    float64 \n",
      " 1   tip         244 non-null    float64 \n",
      " 2   sex         244 non-null    category\n",
      " 3   smoker      244 non-null    category\n",
      " 4   day         244 non-null    category\n",
      " 5   time        244 non-null    category\n",
      " 6   size        244 non-null    int64   \n",
      "dtypes: category(4), float64(2), int64(1)\n",
      "memory usage: 7.4 KB\n",
      "None\n"
     ]
    }
   ],
   "source": [
    "print(tips.info())"
   ]
  },
  {
   "cell_type": "code",
   "execution_count": 4,
   "id": "e9f9df06",
   "metadata": {},
   "outputs": [
    {
     "name": "stdout",
     "output_type": "stream",
     "text": [
      "   total_bill   tip     sex smoker  day    time  size\n",
      "0       16.99  1.01  Female     No  Sun  Dinner     2\n",
      "1       10.34  1.66    Male     No  Sun  Dinner     3\n",
      "2       21.01  3.50    Male     No  Sun  Dinner     3\n",
      "3       23.68  3.31    Male     No  Sun  Dinner     2\n",
      "4       24.59  3.61  Female     No  Sun  Dinner     4\n",
      "5       25.29  4.71    Male     No  Sun  Dinner     4\n",
      "6        8.77  2.00    Male     No  Sun  Dinner     2\n",
      "7       26.88  3.12    Male     No  Sun  Dinner     4\n",
      "8       15.04  1.96    Male     No  Sun  Dinner     2\n",
      "9       14.78  3.23    Male     No  Sun  Dinner     2\n"
     ]
    }
   ],
   "source": [
    "print(tips.head(10))"
   ]
  },
  {
   "cell_type": "code",
   "execution_count": 5,
   "id": "cd0ce9f6",
   "metadata": {},
   "outputs": [
    {
     "name": "stdout",
     "output_type": "stream",
     "text": [
      "       total_bill         tip        size\n",
      "count  244.000000  244.000000  244.000000\n",
      "mean    19.785943    2.998279    2.569672\n",
      "std      8.902412    1.383638    0.951100\n",
      "min      3.070000    1.000000    1.000000\n",
      "25%     13.347500    2.000000    2.000000\n",
      "50%     17.795000    2.900000    2.000000\n",
      "75%     24.127500    3.562500    3.000000\n",
      "max     50.810000   10.000000    6.000000\n"
     ]
    }
   ],
   "source": [
    "print(tips.describe())"
   ]
  },
  {
   "cell_type": "code",
   "execution_count": 6,
   "id": "b6ec3ebf",
   "metadata": {},
   "outputs": [
    {
     "name": "stdout",
     "output_type": "stream",
     "text": [
      "total_bill    0\n",
      "tip           0\n",
      "sex           0\n",
      "smoker        0\n",
      "day           0\n",
      "time          0\n",
      "size          0\n",
      "dtype: int64\n"
     ]
    }
   ],
   "source": [
    "print(tips.isnull().sum())"
   ]
  },
  {
   "cell_type": "markdown",
   "id": "0da0566f",
   "metadata": {},
   "source": [
    "## Analysis of tips by different sexes:"
   ]
  },
  {
   "cell_type": "code",
   "execution_count": 7,
   "id": "855c770c",
   "metadata": {},
   "outputs": [
    {
     "data": {
      "text/plain": [
       "sex\n",
       "Male      3.089618\n",
       "Female    2.833448\n",
       "Name: tip, dtype: float64"
      ]
     },
     "execution_count": 7,
     "metadata": {},
     "output_type": "execute_result"
    }
   ],
   "source": [
    "avg_tips=tips.groupby(\"sex\")[\"tip\"].mean()\n",
    "avg_tips"
   ]
  },
  {
   "cell_type": "code",
   "execution_count": 8,
   "id": "74eeee4d",
   "metadata": {},
   "outputs": [
    {
     "data": {
      "text/plain": [
       "<AxesSubplot:xlabel='total_bill', ylabel='tip'>"
      ]
     },
     "execution_count": 8,
     "metadata": {},
     "output_type": "execute_result"
    },
    {
     "data": {
      "image/png": "[encoded data removed]",
      "text/plain": [
       "<Figure size 432x288 with 2 Axes>"
      ]
     },
     "metadata": {
      "needs_background": "light"
     },
     "output_type": "display_data"
    }
   ],
   "source": [
    "tips.plot(x=\"total_bill\", y=\"tip\", c=\"sex\", kind=\"scatter\",cmap=\"rainbow\")"
   ]
  },
  {
   "cell_type": "markdown",
   "id": "8d8eae85",
   "metadata": {},
   "source": [
    "    We can infer that \n",
    "    * the male give higher tips than the female \n",
    "    * the higher tips are given with higher total_bills\n",
    "    * the customers prefer giving tips generally with lesser total bills."
   ]
  },
  {
   "cell_type": "markdown",
   "id": "13d79247",
   "metadata": {},
   "source": [
    "## Busiest time and day"
   ]
  },
  {
   "cell_type": "code",
   "execution_count": 9,
   "id": "7deb8b30",
   "metadata": {},
   "outputs": [
    {
     "data": {
      "text/plain": [
       "'Sat'"
      ]
     },
     "execution_count": 9,
     "metadata": {},
     "output_type": "execute_result"
    }
   ],
   "source": [
    "tips['day'].value_counts().idxmax()"
   ]
  },
  {
   "cell_type": "code",
   "execution_count": 10,
   "id": "3fcb5c14",
   "metadata": {},
   "outputs": [
    {
     "data": {
      "text/plain": [
       "<BarContainer object of 4 artists>"
      ]
     },
     "execution_count": 10,
     "metadata": {},
     "output_type": "execute_result"
    },
    {
     "data": {
      "image/png": "[encoded data removed]",
      "text/plain": [
       "<Figure size 432x288 with 1 Axes>"
      ]
     },
     "metadata": {
      "needs_background": "light"
     },
     "output_type": "display_data"
    }
   ],
   "source": [
    "plt.bar(x=tips['day'].value_counts().index,height=tips['day'].value_counts())"
   ]
  },
  {
   "cell_type": "code",
   "execution_count": 11,
   "id": "7f0e78f9",
   "metadata": {},
   "outputs": [
    {
     "name": "stdout",
     "output_type": "stream",
     "text": [
      "Sat     87\n",
      "Sun     76\n",
      "Thur    62\n",
      "Fri     19\n",
      "Name: day, dtype: int64\n"
     ]
    }
   ],
   "source": [
    "print(tips['day'].value_counts())"
   ]
  },
  {
   "cell_type": "markdown",
   "id": "b96c835b",
   "metadata": {},
   "source": [
    "    * Thus, Saturday is the busiest day of the week "
   ]
  },
  {
   "cell_type": "code",
   "execution_count": 12,
   "id": "2d49c4f4",
   "metadata": {},
   "outputs": [
    {
     "data": {
      "text/plain": [
       "Dinner    176\n",
       "Lunch      68\n",
       "Name: time, dtype: int64"
      ]
     },
     "execution_count": 12,
     "metadata": {},
     "output_type": "execute_result"
    }
   ],
   "source": [
    "time_counts=tips['time'].value_counts()\n",
    "time_counts"
   ]
  },
  {
   "cell_type": "code",
   "execution_count": 13,
   "id": "c51b08a4",
   "metadata": {},
   "outputs": [
    {
     "data": {
      "text/plain": [
       "<AxesSubplot:>"
      ]
     },
     "execution_count": 13,
     "metadata": {},
     "output_type": "execute_result"
    },
    {
     "data": {
      "image/png": "[encoded data removed]",
      "text/plain": [
       "<Figure size 432x288 with 1 Axes>"
      ]
     },
     "metadata": {
      "needs_background": "light"
     },
     "output_type": "display_data"
    }
   ],
   "source": [
    "sns.barplot(x=time_counts.index, y=time_counts.values)"
   ]
  },
  {
   "cell_type": "markdown",
   "id": "05a22e34",
   "metadata": {},
   "source": [
    "    * Most customers prefer dinner to lunch"
   ]
  },
  {
   "cell_type": "markdown",
   "id": "eacc7d91",
   "metadata": {},
   "source": [
    "## Analysis of frequency of  people visiting on weekends"
   ]
  },
  {
   "cell_type": "code",
   "execution_count": 72,
   "id": "226b2794",
   "metadata": {},
   "outputs": [
    {
     "data": {
      "image/png": "[encoded data removed]",
      "text/plain": [
       "<Figure size 576x432 with 1 Axes>"
      ]
     },
     "metadata": {
      "needs_background": "light"
     },
     "output_type": "display_data"
    }
   ],
   "source": [
    "plt.figure(figsize=(8, 6))\n",
    "tips['is_weekend'] = (tips['day'] == 'Sat') | (tips['day'] == 'Sun')\n",
    "counts = tips.groupby('is_weekend').size()\n",
    "counts.index = ['Weekday', 'Weekend']\n",
    "counts.plot(kind='bar')\n",
    "plt.ylabel(\"frequency\")\n",
    "plt.show()"
   ]
  },
  {
   "cell_type": "markdown",
   "id": "60876e86",
   "metadata": {},
   "source": [
    "    * The store is busy mainly on weekends"
   ]
  },
  {
   "cell_type": "code",
   "execution_count": 15,
   "id": "1541fec8",
   "metadata": {},
   "outputs": [
    {
     "data": {
      "image/png": "[encoded data removed]",
      "text/plain": [
       "<Figure size 576x432 with 1 Axes>"
      ]
     },
     "metadata": {
      "needs_background": "light"
     },
     "output_type": "display_data"
    }
   ],
   "source": [
    "plt.figure(figsize=(8, 6))\n",
    "weekend_tips = tips[(tips['day'] == 'Sat') | (tips['day'] == 'Sun')]\n",
    "counts = weekend_tips.groupby('day').size()\n",
    "counts.plot(kind='bar')\n",
    "plt.ylabel(\"Frequency\")\n",
    "plt.show()"
   ]
  },
  {
   "cell_type": "markdown",
   "id": "e0cf3840",
   "metadata": {},
   "source": [
    "    * Saturdays generally have more customers than on Sundays"
   ]
  },
  {
   "cell_type": "markdown",
   "id": "22b3ebba",
   "metadata": {},
   "source": [
    "## Analysis of total bill/money spend and tips by various family sizes"
   ]
  },
  {
   "cell_type": "code",
   "execution_count": 16,
   "id": "f4fabdcc",
   "metadata": {},
   "outputs": [
    {
     "name": "stdout",
     "output_type": "stream",
     "text": [
      "      total_bill       tip\n",
      "size                      \n",
      "1       7.242500  1.437500\n",
      "2      16.448013  2.582308\n",
      "3      23.277632  3.393158\n",
      "4      28.613514  4.135405\n",
      "5      30.068000  4.028000\n",
      "6      34.830000  5.225000\n"
     ]
    }
   ],
   "source": [
    "amt=tips.groupby('size')[['total_bill','tip']].mean()\n",
    "print(amt)"
   ]
  },
  {
   "cell_type": "code",
   "execution_count": 74,
   "id": "6d34d1b1",
   "metadata": {},
   "outputs": [
    {
     "data": {
      "image/png": "[encoded data removed]",
      "text/plain": [
       "<Figure size 432x288 with 1 Axes>"
      ]
     },
     "metadata": {
      "needs_background": "light"
     },
     "output_type": "display_data"
    },
    {
     "data": {
      "text/plain": [
       "<Figure size 576x432 with 0 Axes>"
      ]
     },
     "metadata": {},
     "output_type": "display_data"
    }
   ],
   "source": [
    "amt.plot(kind='bar')\n",
    "plt.figure(figsize=(8, 6))\n",
    "plt.show()"
   ]
  },
  {
   "cell_type": "code",
   "execution_count": 18,
   "id": "2b2855cd",
   "metadata": {},
   "outputs": [
    {
     "data": {
      "text/plain": [
       "<Figure size 576x432 with 0 Axes>"
      ]
     },
     "metadata": {},
     "output_type": "display_data"
    },
    {
     "data": {
      "image/png": "[encoded data removed]",
      "text/plain": [
       "<Figure size 432x288 with 2 Axes>"
      ]
     },
     "metadata": {
      "needs_background": "light"
     },
     "output_type": "display_data"
    }
   ],
   "source": [
    "plt.figure(figsize=(8, 6))\n",
    "tips.plot(x=\"total_bill\", y=\"tip\", c=\"size\", kind=\"scatter\",cmap=\"coolwarm\")\n",
    "plt.xlabel(\"total bill\")\n",
    "plt.show()"
   ]
  },
  {
   "cell_type": "markdown",
   "id": "0c1ab756",
   "metadata": {},
   "source": [
    "    Thus, we can say that:\n",
    "    * the higher the family size, the more amt is the tip given\n",
    "    * generally the smaller family sizes like 1-3 are inclined to give tips "
   ]
  },
  {
   "cell_type": "markdown",
   "id": "439f7676",
   "metadata": {},
   "source": [
    "### Analysis on busiest time with majority(smoker or non smoker)"
   ]
  },
  {
   "cell_type": "code",
   "execution_count": 23,
   "id": "94ec5e40",
   "metadata": {},
   "outputs": [
    {
     "name": "stdout",
     "output_type": "stream",
     "text": [
      "Smoker:  93\n",
      "Non-Smoker:  151\n"
     ]
    }
   ],
   "source": [
    "s=tips['smoker'].value_counts()\n",
    "print(\"Smoker: \",s.loc['Yes'])\n",
    "print(\"Non-Smoker: \",s.loc[\"No\"])"
   ]
  },
  {
   "cell_type": "code",
   "execution_count": 82,
   "id": "6109c23a",
   "metadata": {},
   "outputs": [
    {
     "data": {
      "text/plain": [
       "<AxesSubplot:xlabel='smoker', ylabel='count'>"
      ]
     },
     "execution_count": 82,
     "metadata": {},
     "output_type": "execute_result"
    },
    {
     "data": {
      "image/png": "[encoded data removed]",
      "text/plain": [
       "<Figure size 432x288 with 1 Axes>"
      ]
     },
     "metadata": {
      "needs_background": "light"
     },
     "output_type": "display_data"
    }
   ],
   "source": [
    "sns.countplot(data=tips,x=\"smoker\",hue=\"day\")"
   ]
  },
  {
   "cell_type": "markdown",
   "id": "e13521f9",
   "metadata": {},
   "source": [
    "    * Non-smokers come less on Fridays \n",
    "    * Non-smokers come more than smokers on all days\n",
    "    * Smokers come more on Saturdays"
   ]
  },
  {
   "cell_type": "code",
   "execution_count": 87,
   "id": "a0ee2276",
   "metadata": {},
   "outputs": [
    {
     "data": {
      "image/png": "[encoded data removed]",
      "text/plain": [
       "<Figure size 432x288 with 1 Axes>"
      ]
     },
     "metadata": {
      "needs_background": "light"
     },
     "output_type": "display_data"
    }
   ],
   "source": [
    "sns.scatterplot(x=\"total_bill\",y=\"tip\",data=tips,hue=\"smoker\")\n",
    "plt.show()"
   ]
  },
  {
   "cell_type": "markdown",
   "id": "c9bd12b6",
   "metadata": {},
   "source": [
    "    * Non-smokers customers are more\n",
    "    * Smokers tend to have more total_bill than the non-smokers\n",
    "    * Smokers tend to pay lesser tips compared to non-smokers"
   ]
  },
  {
   "cell_type": "code",
   "execution_count": 94,
   "id": "3df7a293",
   "metadata": {},
   "outputs": [
    {
     "name": "stdout",
     "output_type": "stream",
     "text": [
      "smoker  time  \n",
      "Yes     Lunch      23\n",
      "        Dinner     70\n",
      "No      Lunch      45\n",
      "        Dinner    106\n",
      "dtype: int64\n"
     ]
    },
    {
     "data": {
      "text/plain": [
       "<AxesSubplot:xlabel='smoker', ylabel='count'>"
      ]
     },
     "execution_count": 94,
     "metadata": {},
     "output_type": "execute_result"
    },
    {
     "data": {
      "image/png": "[encoded data removed]",
      "text/plain": [
       "<Figure size 432x288 with 1 Axes>"
      ]
     },
     "metadata": {
      "needs_background": "light"
     },
     "output_type": "display_data"
    }
   ],
   "source": [
    "g=tips.groupby(['smoker','time']).size()\n",
    "print(g)\n",
    "sns.countplot(data=tips,x=\"smoker\",hue=\"time\")"
   ]
  },
  {
   "cell_type": "markdown",
   "id": "621dbef9",
   "metadata": {},
   "source": [
    "    * Non-smokers and smokers come more in the dinner compared to lunch"
   ]
  },
  {
   "cell_type": "markdown",
   "id": "0013e0dd",
   "metadata": {},
   "source": [
    "### Analysis of the average no of customers"
   ]
  },
  {
   "cell_type": "code",
   "execution_count": 96,
   "id": "97690502",
   "metadata": {},
   "outputs": [
    {
     "name": "stdout",
     "output_type": "stream",
     "text": [
      "Average number of customers: 2.569672131147541\n"
     ]
    }
   ],
   "source": [
    "average_customers = tips['size'].mean()\n",
    "print(\"Average number of customers:\", average_customers)"
   ]
  },
  {
   "cell_type": "markdown",
   "id": "ea34d9ac",
   "metadata": {},
   "source": [
    "### Which sex has spent on more total_bills on the later part of the week?"
   ]
  },
  {
   "cell_type": "code",
   "execution_count": 102,
   "id": "958b50fc",
   "metadata": {},
   "outputs": [
    {
     "data": {
      "text/plain": [
       "['Sun', 'Sat', 'Thur', 'Fri']\n",
       "Categories (4, object): ['Thur', 'Fri', 'Sat', 'Sun']"
      ]
     },
     "execution_count": 102,
     "metadata": {},
     "output_type": "execute_result"
    }
   ],
   "source": [
    "tips['day'].unique()"
   ]
  },
  {
   "cell_type": "code",
   "execution_count": 137,
   "id": "e469f478",
   "metadata": {},
   "outputs": [
    {
     "data": {
      "text/plain": [
       "sex     day \n",
       "Male    Thur    30\n",
       "        Fri     10\n",
       "        Sat     59\n",
       "        Sun     58\n",
       "Female  Thur    32\n",
       "        Fri      9\n",
       "        Sat     28\n",
       "        Sun     18\n",
       "Name: total_bill, dtype: int64"
      ]
     },
     "execution_count": 137,
     "metadata": {},
     "output_type": "execute_result"
    }
   ],
   "source": [
    "a=tips.groupby(['sex','day'])['total_bill'].size()\n",
    "a"
   ]
  },
  {
   "cell_type": "code",
   "execution_count": 124,
   "id": "55f1daed",
   "metadata": {},
   "outputs": [
    {
     "data": {
      "text/plain": [
       "<AxesSubplot:xlabel='sex', ylabel='total_bill'>"
      ]
     },
     "execution_count": 124,
     "metadata": {},
     "output_type": "execute_result"
    },
    {
     "data": {
      "image/png": "[encoded data removed]",
      "text/plain": [
       "<Figure size 432x288 with 1 Axes>"
      ]
     },
     "metadata": {
      "needs_background": "light"
     },
     "output_type": "display_data"
    }
   ],
   "source": [
    "sns.barplot(data=tips,x='sex',y='total_bill')"
   ]
  },
  {
   "cell_type": "code",
   "execution_count": 136,
   "id": "8af7256c",
   "metadata": {},
   "outputs": [
    {
     "data": {
      "text/plain": [
       "<AxesSubplot:xlabel='day', ylabel='total_bill'>"
      ]
     },
     "execution_count": 136,
     "metadata": {},
     "output_type": "execute_result"
    },
    {
     "data": {
      "image/png": "[encoded data removed]",
      "text/plain": [
       "<Figure size 432x288 with 1 Axes>"
      ]
     },
     "metadata": {
      "needs_background": "light"
     },
     "output_type": "display_data"
    }
   ],
   "source": [
    "sns.scatterplot(data=tips,x=\"day\",y=\"total_bill\",hue=\"sex\")"
   ]
  },
  {
   "cell_type": "markdown",
   "id": "b84a92d0",
   "metadata": {},
   "source": [
    "    We can infer that:\n",
    "    * Males pay more bills than females\n",
    "    * Saturdays and sundays have more male customers"
   ]
  },
  {
   "cell_type": "markdown",
   "id": "a0978066",
   "metadata": {},
   "source": [
    "### Analysis of the number of people in a group to arrange the tables accordingly"
   ]
  },
  {
   "cell_type": "code",
   "execution_count": 163,
   "id": "52d4b4ba",
   "metadata": {},
   "outputs": [
    {
     "data": {
      "text/plain": [
       "size      \n",
       "1     Sat      2\n",
       "      Thur     1\n",
       "      Fri      1\n",
       "      Sun      0\n",
       "2     Sat     53\n",
       "      Thur    48\n",
       "      Sun     39\n",
       "      Fri     16\n",
       "3     Sat     18\n",
       "      Sun     15\n",
       "      Thur     4\n",
       "      Fri      1\n",
       "4     Sun     18\n",
       "      Sat     13\n",
       "      Thur     5\n",
       "      Fri      1\n",
       "5     Sun      3\n",
       "      Thur     1\n",
       "      Sat      1\n",
       "      Fri      0\n",
       "6     Thur     3\n",
       "      Sun      1\n",
       "      Fri      0\n",
       "      Sat      0\n",
       "Name: day, dtype: int64"
      ]
     },
     "execution_count": 163,
     "metadata": {},
     "output_type": "execute_result"
    }
   ],
   "source": [
    "tips.groupby(['size'])['day'].value_counts()"
   ]
  },
  {
   "cell_type": "code",
   "execution_count": 165,
   "id": "7efdc80f",
   "metadata": {},
   "outputs": [
    {
     "data": {
      "text/plain": [
       "Text(0, 0.5, 'no of customers')"
      ]
     },
     "execution_count": 165,
     "metadata": {},
     "output_type": "execute_result"
    },
    {
     "data": {
      "image/png": "[encoded data removed]",
      "text/plain": [
       "<Figure size 432x288 with 1 Axes>"
      ]
     },
     "metadata": {
      "needs_background": "light"
     },
     "output_type": "display_data"
    }
   ],
   "source": [
    "sns.countplot(data=tips,x='day',hue='size')\n",
    "plt.ylabel(\"no of customers\")"
   ]
  },
  {
   "cell_type": "markdown",
   "id": "c3cccb69",
   "metadata": {},
   "source": [
    "    Therefore, \n",
    "    * Most of the customers come are couples on all 4 days\n",
    "    * Frequency of customers coming in groups of 6 is even less and only on Thurdays and Sundays\n",
    "    * Fridays need lesser tables"
   ]
  },
  {
   "cell_type": "markdown",
   "id": "7a417f7f",
   "metadata": {},
   "source": [
    "### Tip with respect to family size"
   ]
  },
  {
   "cell_type": "code",
   "execution_count": 168,
   "id": "a23ea510",
   "metadata": {},
   "outputs": [
    {
     "name": "stdout",
     "output_type": "stream",
     "text": [
      "2    156\n",
      "3     38\n",
      "4     37\n",
      "5      5\n",
      "1      4\n",
      "6      4\n",
      "Name: size, dtype: int64\n"
     ]
    }
   ],
   "source": [
    "print(tips['size'].value_counts())"
   ]
  },
  {
   "cell_type": "code",
   "execution_count": 181,
   "id": "6bcdef2c",
   "metadata": {},
   "outputs": [
    {
     "data": {
      "text/plain": [
       "Text(0.5, 0, 'Family size')"
      ]
     },
     "execution_count": 181,
     "metadata": {},
     "output_type": "execute_result"
    },
    {
     "data": {
      "image/png": "[encoded data removed]",
      "text/plain": [
       "<Figure size 432x288 with 1 Axes>"
      ]
     },
     "metadata": {
      "needs_background": "light"
     },
     "output_type": "display_data"
    }
   ],
   "source": [
    "sns.barplot(data=tips,x=\"size\",y=\"tip\")\n",
    "plt.xlabel(\"Family size\")"
   ]
  },
  {
   "cell_type": "markdown",
   "id": "16d5988f",
   "metadata": {},
   "source": [
    "    * The tips increase with increase in no of family members"
   ]
  },
  {
   "cell_type": "code",
   "execution_count": null,
   "id": "b2e46d7f",
   "metadata": {},
   "outputs": [],
   "source": []
  }
 ],
 "metadata": {
  "kernelspec": {
   "display_name": "Python 3 (ipykernel)",
   "language": "python",
   "name": "python3"
  },
  "language_info": {
   "codemirror_mode": {
    "name": "ipython",
    "version": 3
   },
   "file_extension": ".py",
   "mimetype": "text/x-python",
   "name": "python",
   "nbconvert_exporter": "python",
   "pygments_lexer": "ipython3",
   "version": "3.9.7"
  }
 },
 "nbformat": 4,
 "nbformat_minor": 5
}
