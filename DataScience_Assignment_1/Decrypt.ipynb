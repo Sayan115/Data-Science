{
 "cells": [
  {
   "cell_type": "markdown",
   "id": "5cdc2f94",
   "metadata": {},
   "source": [
    "# Decryption"
   ]
  },
  {
   "cell_type": "markdown",
   "id": "62e0f4d2",
   "metadata": {},
   "source": [
    "Your task is to create a simple encryption method."
   ]
  },
  {
   "cell_type": "markdown",
   "id": "f1f7dd3d",
   "metadata": {},
   "source": [
    "<p>\n",
    "    <ol>\n",
    "    <li>Build your function and test it with a simple input</li>\n",
    "    <p><b>Here is a simple example:</b></p>\n",
    "    <p>Input: 'pdeo eo w paop iaoowca pk paop ajyulpekj.'</p>\n",
    "    <p>Output: 'this is a test message to test encyption.'</p>\n",
    "    <p>&nbsp;</p>\n",
    "    <li>What is the output of this message?</li>\n",
    "    <p>Input: 'pdeo eo w dezzaj iaoowca; kjya zaykzaz, ck pk ywjrwo wjz lkop ej pda laan zeoyqooekj xkwnz: dks awou pda wooecjiajp eo.'</p>\n",
    "</ol>    \n",
    "</p>"
   ]
  },
  {
   "cell_type": "markdown",
   "id": "08da44aa",
   "metadata": {},
   "source": [
    "### Part 1"
   ]
  },
  {
   "cell_type": "code",
   "execution_count": 5,
   "id": "c915aa35",
   "metadata": {},
   "outputs": [],
   "source": [
    "alp_string = 'wxyzabcdefghijklmnopqrstuv'\n",
    "enc_string = 'abcdefghijklmnopqrstuvwxyz'\n",
    "\n",
    "def string_to_list(s):\n",
    "    return s.strip().split()\n",
    "\n",
    "alp_list= string_to_list(alp_string)\n",
    "enc_list=string_to_list(enc_string)\n",
    "\n",
    "enc_dict={i:j for i,j in zip(alp_list[0],enc_list[0])}\n",
    "\n",
    "def encryption(st):\n",
    "    st=st.lower()\n",
    "    m=\"\"\n",
    "    for i in st:\n",
    "        if(i in enc_dict):\n",
    "            m+=enc_dict[i]\n",
    "        else:\n",
    "            m+=i\n",
    "    print (f\"Encrypted: {m}\")"
   ]
  },
  {
   "cell_type": "code",
   "execution_count": 7,
   "id": "3f059f4a",
   "metadata": {},
   "outputs": [
    {
     "name": "stdout",
     "output_type": "stream",
     "text": [
      "Enter sentence: pdeo eo w dezzaj iaoowca; kjya zaykzaz, ck pk ywjrwo wjz lkop ej pda laan zeoyqooekj xkwnz: dks awou pda wooecjiajp eo.\n",
      "Encrypted: this is a hidden message; once decoded, go to canvas and post in the peer discussion board: how easy the assignment is.\n"
     ]
    }
   ],
   "source": [
    "sent=input(\"Enter sentence: \")\n",
    "encryption(sent)"
   ]
  }
 ],
 "metadata": {
  "kernelspec": {
   "display_name": "Python 3 (ipykernel)",
   "language": "python",
   "name": "python3"
  },
  "language_info": {
   "codemirror_mode": {
    "name": "ipython",
    "version": 3
   },
   "file_extension": ".py",
   "mimetype": "text/x-python",
   "name": "python",
   "nbconvert_exporter": "python",
   "pygments_lexer": "ipython3",
   "version": "3.9.7"
  }
 },
 "nbformat": 4,
 "nbformat_minor": 5
}
