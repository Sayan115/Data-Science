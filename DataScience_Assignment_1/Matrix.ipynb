{
 "cells": [
  {
   "cell_type": "markdown",
   "id": "c2618579",
   "metadata": {},
   "source": [
    "# Matrix"
   ]
  },
  {
   "cell_type": "markdown",
   "id": "8a3cb691",
   "metadata": {},
   "source": [
    "<p>\n",
    "<ol>\n",
    "<li> Create a 6x5 random matrix (matrix A) using a normal distribution with mean = -1.2 and std = .4 </li>\n",
    "<li> Create another 5x3 matrix in the following format: (matrix B) \n",
    "<br>\n",
    "<br>\n",
    "<div>\n",
    "<table style=\"width:200px; border:1px solid black\">\n",
    "<tr>\n",
    "    <td style=\"text-align:center; border:1px solid black\">0</td>\n",
    "    <td style=\"text-align:center; border:1px solid black\">-1</td>\n",
    "    <td style=\"text-align:center; border:1px solid black\">-1</td>\n",
    "</tr>\n",
    "<tr>\n",
    "    <td style=\"text-align:center; border:1px solid black\">3</td>\n",
    "    <td style=\"text-align:center;border:1px solid black\">4</td>\n",
    "    <td style=\"text-align:center;border:1px solid black\">1</td>\n",
    "</tr>\n",
    "<tr>\n",
    "    <td style=\"text-align:center; border:1px solid black\">-1</td>\n",
    "    <td style=\"text-align:center; border:1px solid black\">2</td>\n",
    "    <td style=\"text-align:center;border:1px solid black\">3</td>\n",
    "</tr>\n",
    "<tr>\n",
    "    <td style=\"text-align:center; border:1px solid black\">2</td>\n",
    "    <td style=\"text-align:center; border:1px solid black\">4</td>\n",
    "    <td style=\"text-align:center; border:1px solid black\">3</td>\n",
    "</tr>\n",
    "<tr>\n",
    "    <td style=\"text-align:center;border:1px solid black\">2</td>\n",
    "    <td style=\"text-align:center;border:1px solid black\">0</td>\n",
    "    <td style=\"text-align:center;border:1px solid black\">-2</td>\n",
    "</tr>\n",
    "</table>\n",
    "<div></li>\n",
    "<br>   \n",
    "<li> Find Dot Product of matrix A and B and put it in matrix C.</li>\n",
    "<li> Find the row wise sum of the matrix C.</li> \n",
    "</p>\n",
    "\n"
   ]
  },
  {
   "cell_type": "markdown",
   "id": "6481b9b7",
   "metadata": {},
   "source": [
    "### Part 1"
   ]
  },
  {
   "cell_type": "code",
   "execution_count": 7,
   "id": "b88f7af8",
   "metadata": {},
   "outputs": [
    {
     "data": {
      "text/plain": [
       "array([[-0.89819943, -1.61409818, -0.72422664, -0.31444844, -0.5161676 ],\n",
       "       [-1.18507776, -1.13609517, -1.42633304, -1.17905114, -0.98505875],\n",
       "       [-0.96496412, -0.38786345, -1.07616504, -0.97645118, -2.09392173],\n",
       "       [-0.99312558, -1.1155264 , -1.65874839, -1.51065266, -0.70097789],\n",
       "       [-0.89025118, -1.1299593 , -1.79808998, -1.35188371, -1.14082107],\n",
       "       [-0.97294108, -0.49634388, -0.69832547, -0.27685963, -1.47741155]])"
      ]
     },
     "execution_count": 7,
     "metadata": {},
     "output_type": "execute_result"
    }
   ],
   "source": [
    "import numpy as np\n",
    "A=np.random.normal(loc=-1.2,scale=0.4,size=(6,5))\n",
    "A"
   ]
  },
  {
   "cell_type": "markdown",
   "id": "72ef1d8f",
   "metadata": {},
   "source": [
    "### Part 2"
   ]
  },
  {
   "cell_type": "code",
   "execution_count": 9,
   "id": "1644a6e9",
   "metadata": {},
   "outputs": [
    {
     "data": {
      "text/plain": [
       "array([[ 0, -1, -1],\n",
       "       [ 3,  4,  1],\n",
       "       [-1,  2,  3],\n",
       "       [ 2,  4,  3],\n",
       "       [ 2,  0, -2]])"
      ]
     },
     "execution_count": 9,
     "metadata": {},
     "output_type": "execute_result"
    }
   ],
   "source": [
    "B = np.array([\n",
    "    [0,-1,-1],\n",
    "    [3, 4, 1],\n",
    "    [-1,2, 3],\n",
    "    [2, 4, 3],\n",
    "    [2, 0,-2]\n",
    "])\n",
    "B"
   ]
  },
  {
   "cell_type": "markdown",
   "id": "229289b6",
   "metadata": {},
   "source": [
    "### Part 3"
   ]
  },
  {
   "cell_type": "code",
   "execution_count": 11,
   "id": "c2123fd9",
   "metadata": {},
   "outputs": [
    {
     "data": {
      "text/plain": [
       "array([[ -5.77929996,  -8.26444029,  -2.79958877],\n",
       "       [ -6.31017224, -10.92817353,  -5.79705243],\n",
       "       [ -6.22817114,  -6.64462449,  -1.39290453],\n",
       "       [ -6.11109192, -12.82908743,  -8.22864817],\n",
       "       [ -6.57719748, -12.63330081,  -7.40798704],\n",
       "       [ -4.29924853,  -3.5165239 ,   0.505865  ]])"
      ]
     },
     "execution_count": 11,
     "metadata": {},
     "output_type": "execute_result"
    }
   ],
   "source": [
    "C=np.dot(A,B)\n",
    "C"
   ]
  },
  {
   "cell_type": "markdown",
   "id": "f2944184",
   "metadata": {},
   "source": [
    "### Part 4"
   ]
  },
  {
   "cell_type": "code",
   "execution_count": 13,
   "id": "090ccbcd",
   "metadata": {},
   "outputs": [
    {
     "data": {
      "text/plain": [
       "array([-16.84332901, -23.0353982 , -14.26570016, -27.16882751,\n",
       "       -26.61848534,  -7.30990742])"
      ]
     },
     "execution_count": 13,
     "metadata": {},
     "output_type": "execute_result"
    }
   ],
   "source": [
    "np.sum(C,axis=1)"
   ]
  }
 ],
 "metadata": {
  "kernelspec": {
   "display_name": "Python 3 (ipykernel)",
   "language": "python",
   "name": "python3"
  },
  "language_info": {
   "codemirror_mode": {
    "name": "ipython",
    "version": 3
   },
   "file_extension": ".py",
   "mimetype": "text/x-python",
   "name": "python",
   "nbconvert_exporter": "python",
   "pygments_lexer": "ipython3",
   "version": "3.9.7"
  }
 },
 "nbformat": 4,
 "nbformat_minor": 5
}
