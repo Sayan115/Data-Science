{
 "cells": [
  {
   "cell_type": "markdown",
   "id": "668e5b4c",
   "metadata": {},
   "source": [
    "# Emojis"
   ]
  },
  {
   "cell_type": "code",
   "execution_count": 1,
   "id": "d0af9072",
   "metadata": {},
   "outputs": [
    {
     "name": "stdout",
     "output_type": "stream",
     "text": [
      "Requirement already satisfied: emoji in c:\\users\\kiit\\anaconda3\\lib\\site-packages (2.6.0)\n"
     ]
    }
   ],
   "source": [
    "!python -m pip install emoji"
   ]
  },
  {
   "cell_type": "code",
   "execution_count": 9,
   "id": "0b9077a6",
   "metadata": {},
   "outputs": [],
   "source": [
    "# importing the package\n",
    "import emoji"
   ]
  },
  {
   "cell_type": "code",
   "execution_count": 28,
   "id": "da2da905",
   "metadata": {},
   "outputs": [],
   "source": [
    "emoji_list = [':slightly_smiling_face:',':pensive_face:',':disguised_face:',\n",
    "              ':headphone:',':astonished_face:',':hamburger:',':grinning_face_with_smiling_eyes:',\n",
    "              ':panda:',':fearful_face:',':loudly_crying_face:']"
   ]
  },
  {
   "cell_type": "code",
   "execution_count": 13,
   "id": "0e380133",
   "metadata": {},
   "outputs": [
    {
     "name": "stdout",
     "output_type": "stream",
     "text": [
      ":slightly_smiling_face: --> 🙂\n",
      ":pensive_face: --> 😔\n",
      ":disguised_face: --> 🥸\n",
      ":headphone: --> 🎧\n",
      ":astonished_face: --> 😲\n",
      ":hamburger: --> 🍔\n",
      ":grinning_face_with_smiling_eyes: --> 😄\n",
      ":panda: --> 🐼\n",
      ":fearful_face: --> 😨\n",
      ":loudly_crying_face: --> 😭\n"
     ]
    }
   ],
   "source": [
    "for item in emoji_list:\n",
    "    print(item,'-->',emoji.emojize(item))"
   ]
  },
  {
   "cell_type": "markdown",
   "id": "625bffb6",
   "metadata": {},
   "source": [
    "Your task is to perform following parts:\n",
    "<ol>\n",
    "    <li><b>Part #1:</b>\n",
    "        <ul>\n",
    "        <li>Use the <i>input</i> function to show each of the above emojis to a user and ask her to provide 5 words that describe the emoji. The user should provide 5 single word separated by ';' to describe the emoji. <b>For example:</b> \"Happy;Nice; smile;happy ;cheers \"</li>\n",
    "        <li>After receiving the user's input, you must divide the string into a list of five items, remove any possible white space around the words, and convert all of them to lowercase.<b>For example: </b>the above input should converted into ['happy','nice','smile','happy','cheers'] </li>\n",
    "        <li>Convert the list to a set to eliminate any possible duplicates.  <b>For example: </b>the above set should converted into {'happy','nice','smile','cheers'}   \n",
    "        </li>\n",
    "        <li>Make a dictionary that associates each emoji code with a set of words provided by the user as a descriptor for that emoji. In doing so, you need to use the emoji code as the key and the identified set as the value. <b>For example: </b> {':slightly_smiling_face:':{'happy','nice','smile','cheers'}}\n",
    "         </li>\n",
    "            <li>Using the iterative structure, add one set to the dictionary for each emoji code.</li>  \n",
    "        </ul>\n",
    "    <li><b>Part #2:</b> Use the pickle package to save the dictionary you created in the previous section to a data file.</li>\n",
    "    <li><b>Part #3:</b> Load the saved data to a new variable named <i>emoji_dict</i>.</li>\n",
    "    <li><b>Part #4:</b> Prompt the user to write a sentence containing some of the words she used to describe the emojis. Add the associated emoji to the sentence right after the word that describe the emoji and print it for the user <b>For example: </b> If the user inputs \"I'm so happy today\", your code should print \"I'm so happy 🙂 today.\"</li>\n",
    "         \n",
    "</ol>"
   ]
  },
  {
   "cell_type": "markdown",
   "id": "dc015d7e",
   "metadata": {},
   "source": [
    "### Part 1"
   ]
  },
  {
   "cell_type": "code",
   "execution_count": 33,
   "id": "5eea93a3",
   "metadata": {},
   "outputs": [
    {
     "name": "stdout",
     "output_type": "stream",
     "text": [
      "Provide 5 words for 🙂:  smile;happy ;joy; positive;happy\n",
      "Provide 5 words for 😔:  sad; depressed; disappointed; sad; pensive\n",
      "Provide 5 words for 🥸:  sneaky;hidden;secretive;disguised;masked\n",
      "Provide 5 words for 🎧:  music;listening;audio;sound;headphones\n",
      "Provide 5 words for 😲:  surprised;shocked;amazed;astonished;wow\n",
      "Provide 5 words for 🍔:  food;yummy;tasty;burger;sandwich\n",
      "Provide 5 words for 😄:  happy;smile;friendly;joyful;positive\n",
      "Provide 5 words for 🐼:  bear;panda;bamboo;zoo; panda\n",
      "Provide 5 words for 😨:  scared;nervous;trembling;tense;afraid\n",
      "Provide 5 words for 😭:  sad;crying;painful;sorrowful;miserable\n",
      "{':slightly_smiling_face:': {'happy', 'joy', 'positive', 'smile'}, ':pensive_face:': {'pensive', 'sad', 'depressed', 'disappointed'}, ':disguised_face:': {'secretive', 'sneaky', 'disguised', 'masked', 'hidden'}, ':headphone:': {'headphones', 'sound', 'audio', 'music', 'listening'}, ':astonished_face:': {'shocked', 'amazed', 'astonished', 'surprised', 'wow'}, ':hamburger:': {'sandwich', 'food', 'tasty', 'yummy', 'burger'}, ':grinning_face_with_smiling_eyes:': {'happy', 'joyful', 'positive', 'smile', 'friendly'}, ':panda:': {'bear', 'panda', 'zoo', 'bamboo'}, ':fearful_face:': {'nervous', 'afraid', 'scared', 'tense', 'trembling'}, ':loudly_crying_face:': {'sad', 'miserable', 'sorrowful', 'crying', 'painful'}}\n"
     ]
    }
   ],
   "source": [
    "dict={}\n",
    "for item in emoji_list:\n",
    "    print(f\"Provide 5 words for {emoji.emojize(item)}: \",end=\" \")\n",
    "    words=input().split(\";\")\n",
    "    words=[word.strip().lower() for word in words]\n",
    "    words=set(words)\n",
    "    dict[item]=words\n",
    "print(dict)"
   ]
  },
  {
   "cell_type": "markdown",
   "id": "db1fa034",
   "metadata": {},
   "source": [
    "### Part 2"
   ]
  },
  {
   "cell_type": "code",
   "execution_count": 35,
   "id": "c495ecb6",
   "metadata": {},
   "outputs": [],
   "source": [
    "import pickle\n",
    "with open(\"dict.pkl\",'wb')as i:\n",
    "    pickle.dump(dict,i)"
   ]
  },
  {
   "cell_type": "markdown",
   "id": "c62ace58",
   "metadata": {},
   "source": [
    "### Part 3"
   ]
  },
  {
   "cell_type": "code",
   "execution_count": 37,
   "id": "a5be4d91",
   "metadata": {},
   "outputs": [],
   "source": [
    "with open(\"dict.pkl\",'rb')as j:\n",
    "    emoji_dict=pickle.load(j)"
   ]
  },
  {
   "cell_type": "markdown",
   "id": "deda943b",
   "metadata": {},
   "source": [
    "### Part 4"
   ]
  },
  {
   "cell_type": "code",
   "execution_count": 64,
   "id": "4257c3d9",
   "metadata": {},
   "outputs": [
    {
     "name": "stdout",
     "output_type": "stream",
     "text": [
      "Write a sentence containing some of the words you used to describe the emojis: Hi I'm listening to music\n",
      "Hi I'm listening 🎧 to music 🎧 "
     ]
    }
   ],
   "source": [
    "st=input(\"Write a sentence containing some of the words you used to describe the emojis: \")\n",
    "for i in st.strip().split():\n",
    "    for emj,itm in emoji_dict.items():\n",
    "        if(i in itm):\n",
    "            print(i,emoji.emojize(emj),end=\" \")\n",
    "            break\n",
    "    else:\n",
    "            print(i, end=\" \")"
   ]
  }
 ],
 "metadata": {
  "kernelspec": {
   "display_name": "Python 3 (ipykernel)",
   "language": "python",
   "name": "python3"
  },
  "language_info": {
   "codemirror_mode": {
    "name": "ipython",
    "version": 3
   },
   "file_extension": ".py",
   "mimetype": "text/x-python",
   "name": "python",
   "nbconvert_exporter": "python",
   "pygments_lexer": "ipython3",
   "version": "3.9.7"
  }
 },
 "nbformat": 4,
 "nbformat_minor": 5
}
