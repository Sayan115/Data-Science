{
 "cells": [
  {
   "cell_type": "markdown",
   "id": "002d782c",
   "metadata": {},
   "source": [
    "# Encryption"
   ]
  },
  {
   "cell_type": "markdown",
   "id": "dc734c0d",
   "metadata": {},
   "source": [
    "Your task is to create a simple encryption method. In your encryption process, you must replace each character in a sentence with the corresponding character in the encryption list. Consider the following string files in your work:\n"
   ]
  },
  {
   "cell_type": "code",
   "execution_count": 51,
   "id": "aadfe283",
   "metadata": {},
   "outputs": [],
   "source": [
    "alp_string = 'abcdefghijklmnopqrstuvwxyz'\n",
    "enc_string = 'wxyzabcdefghijklmnopqrstuv'"
   ]
  },
  {
   "cell_type": "markdown",
   "id": "a1a83d17",
   "metadata": {},
   "source": [
    "The `alp_string` shows the sequance of alphabet characters. The `enc_string` shows the corresponding encrpytion characters. For example, in this sequance, the character 'a' should be replaced by 'w' and the character 'b' should be replaced by 'x' and so on.\n"
   ]
  },
  {
   "cell_type": "markdown",
   "id": "0fe33d97",
   "metadata": {},
   "source": [
    "\n",
    "\n",
    "<ol>\n",
    "    <li> Write a small python function <b>string_to_list</b> that converts a string to a list of characters.</li>\n",
    "    <li> Convert alp_string to alp_list.</li>\n",
    "    <li> Convert enc_string to enc_list.</li>\n",
    "    <li> Build a dictionary named <b>enc_dict</b> in which each character in alp_list becomes a key and the corresponding character in enc_list becomes the value ( Here is the expcted out put that shows first two elements in the dictionary :{'a':'w', 'b':'x', ...}).<b>Tip:</b> Use zip function along with comprehension to achieve this task</li>\n",
    "    <li>Write a function named <b>encryption</b> that uses enc_dict to convert an input string to its encrypted version of it and return the encrypted string.(<b>Important:</b> Since your dictionary contains only lower case characters, make sure that your function converts the input string to a lower case string at the very first step.)</li>\n",
    "    <li>Write lines of code that asks the user to input a text message. Then use the encryption function that you've developed in the last step to find the encrypted version of the text message.</li>\n",
    "        <p><b>Here is an example:</b></p>\n",
    "        <p>Please input a message: 'this is a test message to test encyption.'</p>\n",
    "        <p>Your encrypted message is: 'pdeo eo w paop iaoowca pk paop ajyulpekj.'</p>\n",
    "</ol>"
   ]
  },
  {
   "cell_type": "markdown",
   "id": "267e5b1a",
   "metadata": {},
   "source": [
    "### Part 1"
   ]
  },
  {
   "cell_type": "code",
   "execution_count": 5,
   "id": "b91c98f3",
   "metadata": {},
   "outputs": [],
   "source": [
    "def string_to_list(s):\n",
    "    return s.strip().split()"
   ]
  },
  {
   "cell_type": "markdown",
   "id": "9a7920ee",
   "metadata": {},
   "source": [
    "### Part 2"
   ]
  },
  {
   "cell_type": "code",
   "execution_count": 11,
   "id": "7a551e23",
   "metadata": {},
   "outputs": [],
   "source": [
    "alp_list= string_to_list(alp_string)"
   ]
  },
  {
   "cell_type": "markdown",
   "id": "cd1da2aa",
   "metadata": {},
   "source": [
    "### Part 3"
   ]
  },
  {
   "cell_type": "code",
   "execution_count": 12,
   "id": "7f46f156",
   "metadata": {},
   "outputs": [],
   "source": [
    "enc_list=string_to_list(enc_string)"
   ]
  },
  {
   "cell_type": "markdown",
   "id": "8f34015e",
   "metadata": {},
   "source": [
    "### Part 4"
   ]
  },
  {
   "cell_type": "code",
   "execution_count": 29,
   "id": "5729195e",
   "metadata": {},
   "outputs": [],
   "source": [
    "enc_dict={i:j for i,j in zip(alp_list[0],enc_list[0])}"
   ]
  },
  {
   "cell_type": "markdown",
   "id": "959f6a77",
   "metadata": {},
   "source": [
    "### Part 5"
   ]
  },
  {
   "cell_type": "code",
   "execution_count": 72,
   "id": "ce02fa89",
   "metadata": {},
   "outputs": [],
   "source": [
    "def encryption(st):\n",
    "    st=st.lower()\n",
    "    m=\"\"\n",
    "    for i in st:\n",
    "        if(i in enc_dict):\n",
    "            m+=enc_dict[i]\n",
    "        else:\n",
    "            m+=i\n",
    "    print (f\"Encrypted: {m}\")"
   ]
  },
  {
   "cell_type": "markdown",
   "id": "51cb488b",
   "metadata": {},
   "source": [
    "### Part 6"
   ]
  },
  {
   "cell_type": "code",
   "execution_count": 73,
   "id": "159a06a3",
   "metadata": {},
   "outputs": [
    {
     "name": "stdout",
     "output_type": "stream",
     "text": [
      "Enter sentence: this is a test message to test encyption.\n",
      "Encrypted: pdeo eo w paop iaoowca pk paop ajyulpekj.\n"
     ]
    }
   ],
   "source": [
    "sent=input(\"Enter sentence: \")\n",
    "encryption(sent)"
   ]
  }
 ],
 "metadata": {
  "kernelspec": {
   "display_name": "Python 3 (ipykernel)",
   "language": "python",
   "name": "python3"
  },
  "language_info": {
   "codemirror_mode": {
    "name": "ipython",
    "version": 3
   },
   "file_extension": ".py",
   "mimetype": "text/x-python",
   "name": "python",
   "nbconvert_exporter": "python",
   "pygments_lexer": "ipython3",
   "version": "3.9.7"
  }
 },
 "nbformat": 4,
 "nbformat_minor": 5
}
